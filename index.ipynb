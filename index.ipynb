{
 "cells": [
  {
   "cell_type": "markdown",
   "metadata": {},
   "source": [
    "# Scraping Concerts - Lab\n",
    "\n",
    "## Introduction\n",
    "\n",
    "Now that you've seen how to scrape a simple website, it's time to again practice those skills on a full-fledged site!\n",
    "In this lab, you'll practice your scraping skills on a music website: https://www.residentadvisor.net.\n",
    "## Objectives\n",
    "\n",
    "You will be able to:\n",
    "* Scrape events from a website\n",
    "* Follow links to those events to retrieve further information\n",
    "* Clean and store scraped data"
   ]
  },
  {
   "cell_type": "markdown",
   "metadata": {},
   "source": [
    "## View the Website\n",
    "\n",
    "For this lab, you'll be scraping the https://www.residentadvisor.net website. Start by navigating to the events page [here](https://www.residentadvisor.net/events) in your browser.\n",
    "\n",
    "<img src=\"images/ra.png\">"
   ]
  },
  {
   "cell_type": "code",
   "execution_count": null,
   "metadata": {},
   "outputs": [],
   "source": [
    "#Load the https://www.residentadvisor.net/events page in your browser."
   ]
  },
  {
   "cell_type": "code",
   "execution_count": 1,
   "metadata": {},
   "outputs": [],
   "source": [
    "from bs4 import BeautifulSoup\n",
    "import bs4\n",
    "import requests\n",
    "import re"
   ]
  },
  {
   "cell_type": "code",
   "execution_count": 56,
   "metadata": {},
   "outputs": [],
   "source": [
    "def get_next_url(soup):\n",
    "    return soup.find(\"a\",{\"ga-event-action\":\"Next \"}).attrs[\"href\"]\n",
    "def soup_to_event_list(soup):\n",
    "    unfiltered_list = soup.find(\"ul\",attrs={\"id\":\"items\",\"class\":\"list\"}).findAll(\"li\")\n",
    "    return list(filter(lambda x : x.find(\"article\") is not None, unfiltered_list))\n",
    "regex = re.compile(\"/event.*\")\n",
    "def event_listing_to_href(event):\n",
    "    return event.findAll(\"a\",attrs={\"href\":regex})[0].attrs[\"href\"]\n",
    "\n",
    "base_url = \"https://www.residentadvisor.net\"\n",
    "def get_urls(num_urls):\n",
    "    append_this = \"/events/us/newyork\"\n",
    "    urls = []\n",
    "    while num_urls>0:\n",
    "        request_url = base_url + append_this\n",
    "        soup = BeautifulSoup(requests.get(request_url).content,\"html.parser\")\n",
    "        events = soup_to_event_list(soup)\n",
    "        for event in events:\n",
    "            if num_urls <= 0:\n",
    "                return urls\n",
    "            num_urls -= 1\n",
    "            urls.append(event_listing_to_href(event))\n",
    "        append_this = get_next_url(soup)\n",
    "    return urls"
   ]
  },
  {
   "cell_type": "code",
   "execution_count": null,
   "metadata": {},
   "outputs": [],
   "source": [
    "#Event_Name, Venue, Event_Date and Number_of_Attendees\n",
    "def event_page_to_dict()"
   ]
  },
  {
   "cell_type": "code",
   "execution_count": 45,
   "metadata": {
    "scrolled": true
   },
   "outputs": [
    {
     "data": {
      "text/plain": [
       "[]"
      ]
     },
     "execution_count": 45,
     "metadata": {},
     "output_type": "execute_result"
    }
   ],
   "source": [
    "soup = BeautifulSoup(requests.get(base_url).text,\"html.parser\")\n"
   ]
  },
  {
   "cell_type": "code",
   "execution_count": 55,
   "metadata": {},
   "outputs": [
    {
     "data": {
      "text/plain": [
       "'/events/us/newyork/week/2019-05-23'"
      ]
     },
     "execution_count": 55,
     "metadata": {},
     "output_type": "execute_result"
    }
   ],
   "source": [
    "get_next_url(soup)"
   ]
  },
  {
   "cell_type": "code",
   "execution_count": 57,
   "metadata": {},
   "outputs": [
    {
     "data": {
      "text/plain": [
       "['/events/1265305#tickets',\n",
       " '/events/1261403#tickets',\n",
       " '/events/1262374#tickets',\n",
       " '/events/1247400',\n",
       " '/events/1235955',\n",
       " '/events/1256758',\n",
       " '/events/1262346',\n",
       " '/events/1265497',\n",
       " '/events/1242570',\n",
       " '/events/1254326',\n",
       " '/events/1266034',\n",
       " '/events/1240407',\n",
       " '/events/1257434',\n",
       " '/events/1261946',\n",
       " '/events/1263038',\n",
       " '/events/1264174',\n",
       " '/events/1256129',\n",
       " '/events/1264647',\n",
       " '/events/1261104',\n",
       " '/events/1262877',\n",
       " '/events/1216533#tickets',\n",
       " '/events/1239640#tickets',\n",
       " '/events/1245746#tickets',\n",
       " '/events/1256680#tickets',\n",
       " '/events/1260389#tickets',\n",
       " '/events/1252857#tickets',\n",
       " '/events/1260430#tickets',\n",
       " '/events/1253101#tickets',\n",
       " '/events/1251736#tickets',\n",
       " '/events/1263185#tickets',\n",
       " '/events/1254985#tickets',\n",
       " '/events/1265340#tickets',\n",
       " '/events/1266119#tickets',\n",
       " '/events/1260272#tickets',\n",
       " '/events/1258339#tickets',\n",
       " '/events/1251895',\n",
       " '/events/1235464',\n",
       " '/events/1256758',\n",
       " '/events/1235948',\n",
       " '/events/1257434',\n",
       " '/events/1263100',\n",
       " '/events/1261969',\n",
       " '/events/1255006',\n",
       " '/events/1260985',\n",
       " '/events/1265493',\n",
       " '/events/1255024',\n",
       " '/events/1252255',\n",
       " '/events/1263699',\n",
       " '/events/1264074',\n",
       " '/events/1265263',\n",
       " '/events/1265464',\n",
       " '/events/1265500',\n",
       " '/events/1267194',\n",
       " '/events/1251422',\n",
       " '/events/1256058',\n",
       " '/events/1265314',\n",
       " '/events/1253873#tickets',\n",
       " '/events/1253085#tickets',\n",
       " '/events/1239644#tickets',\n",
       " '/events/1257189#tickets',\n",
       " '/events/1242162#tickets',\n",
       " '/events/1258252#tickets',\n",
       " '/events/1239541#tickets',\n",
       " '/events/1256691#tickets',\n",
       " '/events/1246651#tickets',\n",
       " '/events/1253102#tickets',\n",
       " '/events/1240179#tickets',\n",
       " '/events/1245751#tickets',\n",
       " '/events/1252887#tickets',\n",
       " '/events/1255372#tickets',\n",
       " '/events/1238717#tickets',\n",
       " '/events/1245863#tickets',\n",
       " '/events/1235954#tickets',\n",
       " '/events/1243072#tickets',\n",
       " '/events/1257877#tickets',\n",
       " '/events/1260017#tickets',\n",
       " '/events/1260276#tickets',\n",
       " '/events/1261986#tickets',\n",
       " '/events/1265425#tickets',\n",
       " '/events/1236727',\n",
       " '/events/1255058',\n",
       " '/events/1264044',\n",
       " '/events/1256704',\n",
       " '/events/1242572',\n",
       " '/events/1257452',\n",
       " '/events/1261450',\n",
       " '/events/1259954',\n",
       " '/events/1261990',\n",
       " '/events/1265200',\n",
       " '/events/1255649',\n",
       " '/events/1259911',\n",
       " '/events/1260953',\n",
       " '/events/1238512',\n",
       " '/events/1259120',\n",
       " '/events/1264264',\n",
       " '/events/1264835#tickets',\n",
       " '/events/1265445',\n",
       " '/events/1265500',\n",
       " '/events/1253115',\n",
       " '/events/1261026',\n",
       " '/events/1262226',\n",
       " '/events/1259636',\n",
       " '/events/1238653#tickets',\n",
       " '/events/1254202#tickets',\n",
       " '/events/1189107#tickets',\n",
       " '/events/1220183#tickets',\n",
       " '/events/1246804#tickets',\n",
       " '/events/1263070#tickets',\n",
       " '/events/1249546#tickets',\n",
       " '/events/1264144#tickets',\n",
       " '/events/1263116#tickets',\n",
       " '/events/1264044',\n",
       " '/events/1257452',\n",
       " '/events/1262260',\n",
       " '/events/1266705',\n",
       " '/events/1265773',\n",
       " '/events/1262250',\n",
       " '/events/1265188',\n",
       " '/events/1265306',\n",
       " '/events/1265503',\n",
       " '/events/1265773',\n",
       " '/events/1260076#tickets',\n",
       " '/events/1238705',\n",
       " '/events/1255938',\n",
       " '/events/1262355',\n",
       " '/events/1266698',\n",
       " '/events/1254987',\n",
       " '/events/1261759',\n",
       " '/events/1266173',\n",
       " '/events/1260996',\n",
       " '/events/1258288',\n",
       " '/events/1256814',\n",
       " '/events/1263626',\n",
       " '/events/1264507',\n",
       " '/events/1264615',\n",
       " '/events/1260451#tickets',\n",
       " '/events/1265513',\n",
       " '/events/1263646',\n",
       " '/events/1227392',\n",
       " '/events/1251235',\n",
       " '/events/1259230',\n",
       " '/events/1263318',\n",
       " '/events/1263592',\n",
       " '/events/1256130',\n",
       " '/events/1264205',\n",
       " '/events/1266269',\n",
       " '/events/1218224#tickets',\n",
       " '/events/1237327#tickets',\n",
       " '/events/1239641#tickets',\n",
       " '/events/1202921#tickets']"
      ]
     },
     "execution_count": 57,
     "metadata": {},
     "output_type": "execute_result"
    }
   ],
   "source": [
    "get_urls(150)"
   ]
  },
  {
   "cell_type": "code",
   "execution_count": 2,
   "metadata": {},
   "outputs": [],
   "source": [
    "response = requests.get(\"https://www.residentadvisor.net/events/us/newyork/week/2019-05-29\")"
   ]
  },
  {
   "cell_type": "code",
   "execution_count": 52,
   "metadata": {
    "scrolled": true
   },
   "outputs": [],
   "source": [
    "soup = get_urls(1)"
   ]
  },
  {
   "cell_type": "code",
   "execution_count": 54,
   "metadata": {},
   "outputs": [
    {
     "data": {
      "text/plain": [
       "[<li class=\"\"><article class=\"event-item clearfix\" itemscope=\"\" itemtype=\"http://data-vocabulary.org/Event\"><span style=\"display:none;\"><time datetime=\"2019-05-17T00:00\" itemprop=\"startDate\">2019-05-17T00:00</time></span><a href=\"/events/1258348\"><img height=\"76\" src=\"/images/events/flyer/2019/5/us-0517-1258348-list.jpg\" width=\"152\"/></a><div class=\"bbox\"><h1 class=\"event-title\" itemprop=\"summary\"><a href=\"/events/1258348\" itemprop=\"url\" title=\"Event details of The Spring Up\">The Spring Up</a> <span>at <span class=\"grey\" style=\"display:inline;\">Headroom</span></span></h1><div class=\"grey event-lineup\">Rissa Garcia</div><p class=\"attending\"><span>2</span> Attending</p></div></article></li>,\n",
       " <li class=\"\"><article class=\"event-item clearfix\" itemscope=\"\" itemtype=\"http://data-vocabulary.org/Event\"><span style=\"display:none;\"><time datetime=\"2019-05-18T00:00\" itemprop=\"startDate\">2019-05-18T00:00</time></span><a href=\"/events/1263730\"><img height=\"76\" src=\"/images/events/flyer/2019/5/us-0518-1263730-list.jpg\" width=\"152\"/></a><div class=\"bbox\"><h1 class=\"event-title\" itemprop=\"summary\"><a href=\"/events/1263730\" itemprop=\"url\" title=\"Event details of Drop Dance Party - Silent Disco Edition\">Drop Dance Party - Silent Disco Edition</a> <span>at <span class=\"grey\" style=\"display:inline;\">Afrobrazilian Cultural Center of NJ</span></span></h1><div class=\"grey event-lineup\">@blissedoutbeats, @djbutta973, @iamimega</div><p class=\"attending\"><span>1</span> Attending</p></div></article></li>,\n",
       " <li class=\"\"><article class=\"event-item clearfix tickets-bkg-logo\" itemscope=\"\" itemtype=\"http://data-vocabulary.org/Event\"><a href=\"/events/1258508#tickets\"><img class=\"nohide\" src=\"https://residentadvisor.net/images/ra-tix.png\" style=\"height: 23px; width: 40px; right: 0px; position: absolute; top: 1px;\"/></a><span style=\"display:none;\"><time datetime=\"2019-05-19T00:00\" itemprop=\"startDate\">2019-05-19T00:00</time></span><a href=\"/events/1258508\"><img height=\"76\" src=\"/images/events/flyer/2019/5/us-0519-1258508-list.jpg\" width=\"152\"/></a><div class=\"bbox\"><h1 class=\"event-title\" itemprop=\"summary\"><a href=\"/events/1258508\" itemprop=\"url\" title=\"Event details of Summer Rooftop Series\">Summer Rooftop Series</a> <span>at <a href=\"/club.aspx?id=167993\">Pour Abbey's</a></span></h1><div class=\"grey event-lineup\">Oscar L, Besada &amp; Cicchino</div><p class=\"attending\"><span>2</span> Attending</p></div></article></li>]"
      ]
     },
     "execution_count": 54,
     "metadata": {},
     "output_type": "execute_result"
    }
   ],
   "source": [
    "soup_to_event_list(soup)"
   ]
  },
  {
   "cell_type": "code",
   "execution_count": 51,
   "metadata": {},
   "outputs": [],
   "source": [
    "def soup_to_event_list(soup):\n",
    "    unfiltered_list = soup.find(\"ul\",attrs={\"id\":\"items\",\"class\":\"list\"}).findAll(\"li\")\n",
    "    return list(filter(lambda x : x.find(\"article\") is not None, unfiltered_list))\n",
    "def event_listing_to_href(event):\n",
    "    return event.findAll(\"a\",attrs={\"href\":regex})[0].attrs[\"href\"]\n",
    "\n",
    "base_url = \"https://www.residentadvisor.net/events\"\n",
    "def get_urls(num_urls):\n",
    "    soup = BeautifulSoup(requests.get(base_url).content,\"html.parser\")\n",
    "    events = soup_to_event_list(soup)\n",
    "    urls = []\n",
    "    for event in events:\n",
    "        if num_urls <= 0:\n",
    "            return urls\n",
    "        num_urls -= 1\n",
    "        urls.append(event_listing_to_href(event))\n",
    "    return urls"
   ]
  },
  {
   "cell_type": "code",
   "execution_count": 45,
   "metadata": {},
   "outputs": [],
   "source": [
    "regex = re.compile(\"/event.*\")"
   ]
  },
  {
   "cell_type": "code",
   "execution_count": 49,
   "metadata": {},
   "outputs": [
    {
     "data": {
      "text/plain": [
       "'/events/1257373'"
      ]
     },
     "execution_count": 49,
     "metadata": {},
     "output_type": "execute_result"
    }
   ],
   "source": [
    "soup_to_event_list(soup)[1].findAll(\"a\",attrs={\"href\":regex})[0].attrs[\"href\"]"
   ]
  },
  {
   "cell_type": "code",
   "execution_count": 23,
   "metadata": {},
   "outputs": [
    {
     "data": {
      "text/plain": [
       "[<li><p class=\"eventDate date\"><a href=\"/events.aspx?ai=8&amp;v=day&amp;mn=5&amp;yr=2019&amp;dy=29\"><span>Wed, 29 May 2019 /</span></a></p></li>,\n",
       " <li class=\"\"><article class=\"event-item clearfix tickets-bkg-logo\" itemscope=\"\" itemtype=\"http://data-vocabulary.org/Event\"><a href=\"/events/1254991#tickets\"><img class=\"nohide\" src=\"https://residentadvisor.net/images/ra-tix.png\" style=\"height: 23px; width: 40px; right: 0px; position: absolute; top: 1px;\"/></a><span style=\"display:none;\"><time datetime=\"2019-05-29T00:00\" itemprop=\"startDate\">2019-05-29T00:00</time></span><a href=\"/events/1254991\"><img height=\"76\" src=\"/images/events/flyer/2019/5/us-0529-1254991-list.jpg\" width=\"152\"/></a><div class=\"bbox\"><h1 class=\"event-title\" itemprop=\"summary\"><a href=\"/events/1254991\" itemprop=\"url\" title=\"Event details of Twin Shadow (DJ Set), Day Cart &amp; Wig-Wam at Elsewhere Rooftop\">Twin Shadow (DJ Set), Day Cart &amp; Wig-Wam at Elsewhere Rooftop</a> <span>at <a href=\"/club.aspx?id=139960\">Elsewhere</a></span></h1><div class=\"grey event-lineup\">ROOFTOP, └ Twin Shadow, └ └ Day Cart &amp; Wig-Wam</div><p class=\"attending\"><span>2</span> Attending</p></div></article></li>,\n",
       " <li class=\"\"><article class=\"event-item clearfix\" itemscope=\"\" itemtype=\"http://data-vocabulary.org/Event\"><span style=\"display:none;\"><time datetime=\"2019-05-29T00:00\" itemprop=\"startDate\">2019-05-29T00:00</time></span><a href=\"/events/1257373\"><img height=\"76\" src=\"/images/events/flyer/2019/5/us-0529-1257373-list.jpg\" width=\"152\"/></a><div class=\"bbox\"><h1 class=\"event-title\" itemprop=\"summary\"><a href=\"/events/1257373\" itemprop=\"url\" title=\"Event details of Bateria with Toribio, Mickey Pérez and Djoy de Cuba\">Bateria with Toribio, Mickey Pérez and Djoy de Cuba</a> <span>at <a href=\"/club.aspx?id=97606\">Good Room</a></span></h1><div class=\"grey event-lineup\">Good Room presents, Bateria, with, TORIBIO, DJ Mickey Perez, Djoy de Cuba</div><p class=\"attending\"><span>3</span> Attending</p></div></article></li>,\n",
       " <li class=\"\"><article class=\"event-item clearfix\" itemscope=\"\" itemtype=\"http://data-vocabulary.org/Event\"><span style=\"display:none;\"><time datetime=\"2019-05-29T00:00\" itemprop=\"startDate\">2019-05-29T00:00</time></span><a href=\"/events/1263630\"><img height=\"76\" src=\"/images/events/flyer/2019/5/us-0529-1263630-list.jpg\" width=\"152\"/></a><div class=\"bbox\"><h1 class=\"event-title\" itemprop=\"summary\"><a href=\"/events/1263630\" itemprop=\"url\" title=\"Event details of Undisclosed with Fabian Castellanos, Andres Betancourt, Juan Jimenez, Snufff\">Undisclosed with Fabian Castellanos, Andres Betancourt, Juan Jimenez, Snufff</a> <span>at <a href=\"/club.aspx?id=75374\">TBA Brooklyn</a></span></h1><div class=\"grey event-lineup\">Fabian Castellanos, Andres Betancourt, Juan Jimenez, Snufff</div><p class=\"attending\"><span>2</span> Attending</p></div></article></li>,\n",
       " <li><p class=\"eventDate date\"><a href=\"/events.aspx?ai=8&amp;v=day&amp;mn=5&amp;yr=2019&amp;dy=30\"><span>Thu, 30 May 2019 /</span></a></p></li>,\n",
       " <li class=\"\"><article class=\"event-item clearfix tickets-bkg-logo\" itemscope=\"\" itemtype=\"http://data-vocabulary.org/Event\"><a href=\"/events/1255007#tickets\"><img class=\"nohide\" src=\"https://residentadvisor.net/images/ra-tix.png\" style=\"height: 23px; width: 40px; right: 0px; position: absolute; top: 1px;\"/></a><span style=\"display:none;\"><time datetime=\"2019-05-30T00:00\" itemprop=\"startDate\">2019-05-30T00:00</time></span><a href=\"/events/1255007\"><img height=\"76\" src=\"/images/events/flyer/2019/5/us-0530-1255007-list.jpg\" width=\"152\"/></a><div class=\"bbox\"><h1 class=\"event-title\" itemprop=\"summary\"><a href=\"/events/1255007\" itemprop=\"url\" title=\"Event details of TEOREMA • New York 2019\">TEOREMA • New York 2019</a> <span>at <a href=\"/club.aspx?id=165116\">Hart bar</a></span></h1><div class=\"grey event-lineup\">TBA, Ulysses, Upsetter aka pictureplane, Bpmf, Pulsewidthmod, Certain Creatures, Squaric, Rodrigo Garcia</div><p class=\"attending\"><span>6</span> Attending</p></div></article></li>,\n",
       " <li class=\"\"><article class=\"event-item clearfix tickets-bkg-logo\" itemscope=\"\" itemtype=\"http://data-vocabulary.org/Event\"><a href=\"/events/1266184#tickets\"><img class=\"nohide\" src=\"https://residentadvisor.net/images/ra-tix.png\" style=\"height: 23px; width: 40px; right: 0px; position: absolute; top: 1px;\"/></a><span style=\"display:none;\"><time datetime=\"2019-05-30T00:00\" itemprop=\"startDate\">2019-05-30T00:00</time></span><a href=\"/events/1266184\"><img height=\"76\" src=\"/images/events/flyer/2019/5/us-0530-1266184-list.jpg\" width=\"152\"/></a><div class=\"bbox\"><h1 class=\"event-title\" itemprop=\"summary\"><a href=\"/events/1266184\" itemprop=\"url\" title=\"Event details of Antenes (DJ set), Brothers (Speculator &amp; Sangre)\">Antenes (DJ set), Brothers (Speculator &amp; Sangre)</a> <span>at <a href=\"/club.aspx?id=97606\">Good Room</a></span></h1><div class=\"grey event-lineup\">Good Room presents, Antenes, Brothers</div><p class=\"attending\"><span>3</span> Attending</p></div></article></li>,\n",
       " <li class=\"\"><article class=\"event-item clearfix\" itemscope=\"\" itemtype=\"http://data-vocabulary.org/Event\"><span style=\"display:none;\"><time datetime=\"2019-05-30T00:00\" itemprop=\"startDate\">2019-05-30T00:00</time></span><a href=\"/events/1261912\"><img height=\"76\" src=\"/images/events/flyer/2019/5/us-0530-1261912-list.jpg\" width=\"152\"/></a><div class=\"bbox\"><h1 class=\"event-title\" itemprop=\"summary\"><a href=\"/events/1261912\" itemprop=\"url\" title=\"Event details of 35s &amp; 45s Exhibition No. 5\">35s &amp; 45s Exhibition No. 5</a> <span>at <a href=\"/club.aspx?id=159837\">Ponyboy</a></span></h1><div class=\"grey event-lineup\">DJ Sheila B, Rich Medina, 35s &amp; 45s Residents</div><p class=\"attending\"><span>2</span> Attending</p></div></article></li>,\n",
       " <li class=\"\"><article class=\"event-item clearfix\" itemscope=\"\" itemtype=\"http://data-vocabulary.org/Event\"><span style=\"display:none;\"><time datetime=\"2019-05-30T00:00\" itemprop=\"startDate\">2019-05-30T00:00</time></span><a href=\"/events/1265457\"><img height=\"76\" src=\"/images/events/flyer/2019/5/us-0530-1265457-list.jpg\" width=\"152\"/></a><div class=\"bbox\"><h1 class=\"event-title\" itemprop=\"summary\"><a href=\"/events/1265457\" itemprop=\"url\" title=\"Event details of Perreo Intenso\">Perreo Intenso</a> <span>at <a href=\"/club.aspx?id=141852\">Mood Ring</a></span></h1><div class=\"grey event-lineup\">JOSELO, TAKI CHULA, ROD-A, STORMY DANIEL</div><p class=\"attending\"><span>2</span> Attending</p></div></article></li>,\n",
       " <li class=\"\"><article class=\"event-item clearfix\" itemscope=\"\" itemtype=\"http://data-vocabulary.org/Event\"><span style=\"display:none;\"><time datetime=\"2019-05-30T00:00\" itemprop=\"startDate\">2019-05-30T00:00</time></span><a href=\"/events/1256131\"><img height=\"76\" src=\"/images/events/flyer/2019/5/us-0530-1256131-list.jpg\" width=\"152\"/></a><div class=\"bbox\"><h1 class=\"event-title\" itemprop=\"summary\"><a href=\"/events/1256131\" itemprop=\"url\" title=\"Event details of Sistaspin Residency with D3ad6oy, Dime, Jody, Baby.com and Bryn Barnett\">Sistaspin Residency with D3ad6oy, Dime, Jody, Baby.com and Bryn Barnett</a> <span>at <a href=\"/club.aspx?id=139960\">Elsewhere</a></span></h1><div class=\"grey event-lineup\">LOFT, Sistaspin Residency w, └ D3ad6oy, └ Dime, └ Jody, └ Baby.com, └ Bryn Barnett</div><p class=\"attending\"><span>1</span> Attending</p></div></article></li>,\n",
       " <li class=\"\"><article class=\"event-item clearfix\" itemscope=\"\" itemtype=\"http://data-vocabulary.org/Event\"><span style=\"display:none;\"><time datetime=\"2019-05-30T00:00\" itemprop=\"startDate\">2019-05-30T00:00</time></span><a href=\"/events/1258385\"><img height=\"76\" src=\"/images/events/flyer/2019/5/us-0530-1258385-list.jpg\" width=\"152\"/></a><div class=\"bbox\"><h1 class=\"event-title\" itemprop=\"summary\"><a href=\"/events/1258385\" itemprop=\"url\" title=\"Event details of Sputnik Disco Yoga Festival Decompression Party\">Sputnik Disco Yoga Festival Decompression Party</a> <span>at <a href=\"/club.aspx?id=119168\">Bogart House</a></span></h1><div class=\"grey event-lineup\">Amber Valentine</div><p class=\"attending\"><span>1</span> Attending</p></div></article></li>,\n",
       " <li><div class=\"but myra mt16\" style=\"width: 152px;\"><a href=\"/submit-event.aspx?ai=8\">Submit event</a></div></li>,\n",
       " <li><p class=\"eventDate date\"><a href=\"/events.aspx?ai=8&amp;v=day&amp;mn=5&amp;yr=2019&amp;dy=31\"><span>Fri, 31 May 2019 /</span></a></p></li>,\n",
       " <li class=\"\"><article class=\"event-item clearfix tickets-bkg-logo\" itemscope=\"\" itemtype=\"http://data-vocabulary.org/Event\"><a href=\"/events/1232648#tickets\"><img class=\"nohide\" src=\"https://residentadvisor.net/images/ra-tix.png\" style=\"height: 23px; width: 40px; right: 0px; position: absolute; top: 1px;\"/></a><span style=\"display:none;\"><time datetime=\"2019-05-31T00:00\" itemprop=\"startDate\">2019-05-31T00:00</time></span><a href=\"/events/1232648\"><img height=\"76\" src=\"/images/events/flyer/2019/5/us-0531-1232648-list.jpg\" width=\"152\"/></a><div class=\"bbox\"><h1 class=\"event-title\" itemprop=\"summary\"><a href=\"/events/1232648\" itemprop=\"url\" title=\"Event details of Teksupport: Nicole Moudaber (All Night Long)\">Teksupport: Nicole Moudaber (All Night Long)</a> <span>at <a href=\"/club.aspx?id=103503\">99 Scott Ave</a></span></h1><div class=\"grey event-lineup\">Nicole Moudaber</div><p class=\"attending\"><span>199</span> Attending</p></div></article></li>,\n",
       " <li class=\"\"><article class=\"event-item clearfix tickets-bkg-logo\" itemscope=\"\" itemtype=\"http://data-vocabulary.org/Event\"><a href=\"/events/1243410#tickets\"><img class=\"nohide\" src=\"https://residentadvisor.net/images/ra-tix.png\" style=\"height: 23px; width: 40px; right: 0px; position: absolute; top: 1px;\"/></a><span style=\"display:none;\"><time datetime=\"2019-05-31T00:00\" itemprop=\"startDate\">2019-05-31T00:00</time></span><a href=\"/events/1243410\"><img height=\"76\" src=\"/images/events/flyer/2019/5/us-0531-1243410-list.jpg\" width=\"152\"/></a><div class=\"bbox\"><h1 class=\"event-title\" itemprop=\"summary\"><a href=\"/events/1243410\" itemprop=\"url\" title=\"Event details of Zero Rooftop Series: Gazgolder x Limited Edition\">Zero Rooftop Series: Gazgolder x Limited Edition</a> <span>at <a href=\"/club.aspx?id=165039\">The Williamsburg Hotel Water Tower</a></span></h1><div class=\"grey event-lineup\">Timujin, Azamat, Zakir, Lovecraft</div><p class=\"attending\"><span>117</span> Attending</p></div></article></li>,\n",
       " <li class=\"\"><article class=\"event-item pick clearfix tickets-bkg-logo\" itemscope=\"\" itemtype=\"http://data-vocabulary.org/Event\"><a href=\"/events/1239643#tickets\"><img class=\"nohide\" src=\"https://residentadvisor.net/images/ra-tix.png\" style=\"height: 23px; width: 40px; right: 0px; position: absolute; top: 1px;\"/></a><span style=\"display:none;\"><time datetime=\"2019-05-31T00:00\" itemprop=\"startDate\">2019-05-31T00:00</time></span><a href=\"/events/1239643\"><img height=\"76\" src=\"/images/events/flyer/2019/5/us-0531-1239643-list.jpg\" width=\"152\"/></a><div class=\"bbox\"><h1 class=\"event-title\" itemprop=\"summary\"><a href=\"/events/1239643\" itemprop=\"url\" title=\"Event details of Tommy Four Seven / Silent Servant / Katie Rex\">Tommy Four Seven / Silent Servant / Katie Rex</a> <span>at <a href=\"/club.aspx?id=165976\">BASEMENT</a></span></h1><div class=\"grey event-lineup\"></div><p class=\"attending\"><span>83</span> Attending</p><div class=\"pick-intro\"><div class=\"pick-icon\">RA Pick</div>It's a goth techno beatdown at New York's newest subterranean dance spot.</div></div></article></li>,\n",
       " <li class=\"\"><article class=\"event-item clearfix tickets-bkg-logo\" itemscope=\"\" itemtype=\"http://data-vocabulary.org/Event\"><a href=\"/events/1259582#tickets\"><img class=\"nohide\" src=\"https://residentadvisor.net/images/ra-tix.png\" style=\"height: 23px; width: 40px; right: 0px; position: absolute; top: 1px;\"/></a><span style=\"display:none;\"><time datetime=\"2019-05-31T00:00\" itemprop=\"startDate\">2019-05-31T00:00</time></span><a href=\"/events/1259582\"><img height=\"76\" src=\"/images/events/flyer/2019/5/us-0531-1259582-list.jpg\" width=\"152\"/></a><div class=\"bbox\"><h1 class=\"event-title\" itemprop=\"summary\"><a href=\"/events/1259582\" itemprop=\"url\" title=\"Event details of Harder Brooklyn\">Harder Brooklyn</a> <span>at <a href=\"/club.aspx?id=159838\">3 Dollar Bill</a></span></h1><div class=\"grey event-lineup\">Eric Bloom, Lauren Flax</div><p class=\"attending\"><span>34</span> Attending</p></div></article></li>,\n",
       " <li class=\"\"><article class=\"event-item clearfix tickets-bkg-logo\" itemscope=\"\" itemtype=\"http://data-vocabulary.org/Event\"><a href=\"/events/1258207#tickets\"><img class=\"nohide\" src=\"https://residentadvisor.net/images/ra-tix.png\" style=\"height: 23px; width: 40px; right: 0px; position: absolute; top: 1px;\"/></a><span style=\"display:none;\"><time datetime=\"2019-05-31T00:00\" itemprop=\"startDate\">2019-05-31T00:00</time></span><a href=\"/events/1258207\"><img height=\"76\" src=\"/images/events/flyer/2019/5/us-0531-1258207-list.jpg\" width=\"152\"/></a><div class=\"bbox\"><h1 class=\"event-title\" itemprop=\"summary\"><a href=\"/events/1258207\" itemprop=\"url\" title=\"Event details of AZARI, Jessy Lanza (DJ Set), Ciarra Black B2B Sheepshead, Material Witness and Dan Wender\">AZARI, Jessy Lanza (DJ Set), Ciarra Black B2B Sheepshead, Material Witness and Dan Wender</a> <span>at <a href=\"/club.aspx?id=139960\">Elsewhere</a></span></h1><div class=\"grey event-lineup\">HALL, └ Azari, └ └ Jessy Lanza, └└└ Ciarra Black B2B Sheepshead, LOFT, └ Material Witness &amp; Dan Wender</div><p class=\"attending\"><span>11</span> Attending</p></div></article></li>,\n",
       " <li class=\"\"><article class=\"event-item clearfix tickets-bkg-logo\" itemscope=\"\" itemtype=\"http://data-vocabulary.org/Event\"><a href=\"/events/1256730#tickets\"><img class=\"nohide\" src=\"https://residentadvisor.net/images/ra-tix.png\" style=\"height: 23px; width: 40px; right: 0px; position: absolute; top: 1px;\"/></a><span style=\"display:none;\"><time datetime=\"2019-05-31T00:00\" itemprop=\"startDate\">2019-05-31T00:00</time></span><a href=\"/events/1256730\"><img height=\"76\" src=\"/images/events/flyer/2019/5/us-0531-1256730-list.jpg\" width=\"152\"/></a><div class=\"bbox\"><h1 class=\"event-title\" itemprop=\"summary\"><a href=\"/events/1256730\" itemprop=\"url\" title=\"Event details of Goonroom presents: Christopher Rau, Christine Renée\">Goonroom presents: Christopher Rau, Christine Renée</a> <span>at <a href=\"/club.aspx?id=145350\">Rose Gold</a></span></h1><div class=\"grey event-lineup\">Christopher Rau, Christine Renee, Day Cart, Wig-Wam</div><p class=\"attending\"><span>9</span> Attending</p></div></article></li>,\n",
       " <li class=\"\"><article class=\"event-item clearfix tickets-bkg-logo\" itemscope=\"\" itemtype=\"http://data-vocabulary.org/Event\"><a href=\"/events/1261012#tickets\"><img class=\"nohide\" src=\"https://residentadvisor.net/images/ra-tix.png\" style=\"height: 23px; width: 40px; right: 0px; position: absolute; top: 1px;\"/></a><span style=\"display:none;\"><time datetime=\"2019-05-31T00:00\" itemprop=\"startDate\">2019-05-31T00:00</time></span><a href=\"/events/1261012\"><img height=\"76\" src=\"/images/events/flyer/2019/5/us-0531-1261012-list.jpg\" width=\"152\"/></a><div class=\"bbox\"><h1 class=\"event-title\" itemprop=\"summary\"><a href=\"/events/1261012\" itemprop=\"url\" title=\"Event details of Dusk &amp; Haze with Ayarcana, 138, Exile Plus DJ Voices &amp; Boo Lean\">Dusk &amp; Haze with Ayarcana, 138, Exile Plus DJ Voices &amp; Boo Lean</a> <span>at <a href=\"/club.aspx?id=97606\">Good Room</a></span></h1><div class=\"grey event-lineup\">Good Room presents, Dusk &amp; Haze with, Ayarcana, 138, Exile, DJ Voices &amp; Boo Lean, in the Bad Room</div><p class=\"attending\"><span>8</span> Attending</p></div></article></li>,\n",
       " <li class=\"\"><article class=\"event-item clearfix tickets-bkg-logo\" itemscope=\"\" itemtype=\"http://data-vocabulary.org/Event\"><a href=\"/events/1254212#tickets\"><img class=\"nohide\" src=\"https://residentadvisor.net/images/ra-tix.png\" style=\"height: 23px; width: 40px; right: 0px; position: absolute; top: 1px;\"/></a><span style=\"display:none;\"><time datetime=\"2019-05-31T00:00\" itemprop=\"startDate\">2019-05-31T00:00</time></span><a href=\"/events/1254212\"><img height=\"76\" src=\"/images/events/flyer/2019/5/us-0531-1254212-list.jpg\" width=\"152\"/></a><div class=\"bbox\"><h1 class=\"event-title\" itemprop=\"summary\"><a href=\"/events/1254212\" itemprop=\"url\" title=\"Event details of Friday: Justin Carter, Gene Tellem, and Tasker\">Friday: Justin Carter, Gene Tellem, and Tasker</a> <span>at <a href=\"/club.aspx?id=105873\">Nowadays</a></span></h1><div class=\"grey event-lineup\">Justin Carter, Gene Tellem, Tasker</div><p class=\"attending\"><span>4</span> Attending</p></div></article></li>,\n",
       " <li class=\"\"><article class=\"event-item clearfix tickets-bkg-logo small-item\" itemscope=\"\" itemtype=\"http://data-vocabulary.org/Event\"><a href=\"/events/1246791#tickets\"><img class=\"nohide\" src=\"https://residentadvisor.net/images/ra-tix.png\" style=\"height: 23px; width: 40px; right: 0px; position: absolute; top: 1px;\"/></a><span style=\"display:none;\"><time datetime=\"2019-05-31T00:00\" itemprop=\"startDate\">2019-05-31T00:00</time></span><div class=\"bbox\"><h1 class=\"event-title\" itemprop=\"summary\"><a href=\"/events/1246791\" itemprop=\"url\" title=\"Event details of Jubilee presents Magic City with Zuzuka Pederosa (Elsewhere Rooftop)\">Jubilee presents Magic City with Zuzuka Pederosa (Elsewhere Rooftop)</a> <span>at <a href=\"/club.aspx?id=139960\">Elsewhere</a></span></h1></div></article></li>,\n",
       " <li class=\"\"><article class=\"event-item clearfix tickets-bkg-logo small-item\" itemscope=\"\" itemtype=\"http://data-vocabulary.org/Event\"><a href=\"/events/1257277#tickets\"><img class=\"nohide\" src=\"https://residentadvisor.net/images/ra-tix.png\" style=\"height: 23px; width: 40px; right: 0px; position: absolute; top: 1px;\"/></a><span style=\"display:none;\"><time datetime=\"2019-05-31T00:00\" itemprop=\"startDate\">2019-05-31T00:00</time></span><div class=\"bbox\"><h1 class=\"event-title\" itemprop=\"summary\"><a href=\"/events/1257277\" itemprop=\"url\" title=\"Event details of Artboat NYC Yacht Party Cruise at Skyport Marina 2019\">Artboat NYC Yacht Party Cruise at Skyport Marina 2019</a> <span>at <a href=\"/club.aspx?id=104916\">Skyport Marina</a></span></h1></div></article></li>,\n",
       " <li class=\"\"><article class=\"event-item clearfix tickets-bkg-logo small-item\" itemscope=\"\" itemtype=\"http://data-vocabulary.org/Event\"><a href=\"/events/1257817#tickets\"><img class=\"nohide\" src=\"https://residentadvisor.net/images/ra-tix.png\" style=\"height: 23px; width: 40px; right: 0px; position: absolute; top: 1px;\"/></a><span style=\"display:none;\"><time datetime=\"2019-05-31T00:00\" itemprop=\"startDate\">2019-05-31T00:00</time></span><div class=\"bbox\"><h1 class=\"event-title\" itemprop=\"summary\"><a href=\"/events/1257817\" itemprop=\"url\" title=\"Event details of NYC Hip Hop vs. Reggae Yacht Party Cabana Yacht\">NYC Hip Hop vs. Reggae Yacht Party Cabana Yacht</a> <span>at <a href=\"/club.aspx?id=104916\">Skyport Marina</a></span></h1></div></article></li>,\n",
       " <li class=\"\"><article class=\"event-item clearfix tickets-bkg-logo small-item\" itemscope=\"\" itemtype=\"http://data-vocabulary.org/Event\"><a href=\"/events/1266579#tickets\"><img class=\"nohide\" src=\"https://residentadvisor.net/images/ra-tix.png\" style=\"height: 23px; width: 40px; right: 0px; position: absolute; top: 1px;\"/></a><span style=\"display:none;\"><time datetime=\"2019-05-31T00:00\" itemprop=\"startDate\">2019-05-31T00:00</time></span><div class=\"bbox\"><h1 class=\"event-title\" itemprop=\"summary\"><a href=\"/events/1266579\" itemprop=\"url\" title=\"Event details of Argenis Brito at TBA\">Argenis Brito at TBA</a> <span>at <a href=\"/club.aspx?id=75374\">TBA Brooklyn</a></span></h1></div></article></li>,\n",
       " <li class=\"\"><article class=\"event-item clearfix tickets-bkg-logo small-item\" itemscope=\"\" itemtype=\"http://data-vocabulary.org/Event\"><a href=\"/events/1244282#tickets\"><img class=\"nohide\" src=\"https://residentadvisor.net/images/ra-tix.png\" style=\"height: 23px; width: 40px; right: 0px; position: absolute; top: 1px;\"/></a><span style=\"display:none;\"><time datetime=\"2019-05-31T00:00\" itemprop=\"startDate\">2019-05-31T00:00</time></span><div class=\"bbox\"><h1 class=\"event-title\" itemprop=\"summary\"><a href=\"/events/1244282\" itemprop=\"url\" title=\"Event details of Bassjackers Boat Party\">Bassjackers Boat Party</a> <span>at <a href=\"/club.aspx?id=84472\">Hornblower Cruise</a></span></h1></div></article></li>,\n",
       " <li class=\"\"><article class=\"event-item clearfix small-item\" itemscope=\"\" itemtype=\"http://data-vocabulary.org/Event\"><span style=\"display:none;\"><time datetime=\"2019-05-31T00:00\" itemprop=\"startDate\">2019-05-31T00:00</time></span><div class=\"bbox\"><h1 class=\"event-title\" itemprop=\"summary\"><a href=\"/events/1263057\" itemprop=\"url\" title=\"Event details of Guy Gerber Live in New York\">Guy Gerber Live in New York</a> <span>at <a href=\"/club.aspx?id=4380\">Webster Hall</a></span></h1></div></article></li>,\n",
       " <li class=\"\"><article class=\"event-item clearfix small-item\" itemscope=\"\" itemtype=\"http://data-vocabulary.org/Event\"><span style=\"display:none;\"><time datetime=\"2019-05-31T00:00\" itemprop=\"startDate\">2019-05-31T00:00</time></span><div class=\"bbox\"><h1 class=\"event-title\" itemprop=\"summary\"><a href=\"/events/1259226\" itemprop=\"url\" title=\"Event details of Brawther\">Brawther</a> <span>at <a href=\"/club.aspx?id=164270\">public records</a></span></h1></div></article></li>,\n",
       " <li class=\"\"><article class=\"event-item clearfix small-item\" itemscope=\"\" itemtype=\"http://data-vocabulary.org/Event\"><span style=\"display:none;\"><time datetime=\"2019-05-31T00:00\" itemprop=\"startDate\">2019-05-31T00:00</time></span><div class=\"bbox\"><h1 class=\"event-title\" itemprop=\"summary\"><a href=\"/events/1260008\" itemprop=\"url\" title=\"Event details of Gouranga presents - Dombrance &amp; Xander Ferreira and The True Tones\">Gouranga presents - Dombrance &amp; Xander Ferreira and The True Tones</a> <span>at <a href=\"/club.aspx?id=4382\">Bowery Ballroom</a></span></h1></div></article></li>,\n",
       " <li class=\"\"><article class=\"event-item clearfix small-item\" itemscope=\"\" itemtype=\"http://data-vocabulary.org/Event\"><span style=\"display:none;\"><time datetime=\"2019-05-31T00:00\" itemprop=\"startDate\">2019-05-31T00:00</time></span><div class=\"bbox\"><h1 class=\"event-title\" itemprop=\"summary\"><a href=\"/events/1263415\" itemprop=\"url\" title=\"Event details of Play House\">Play House</a> <span>at <a href=\"/club.aspx?id=128228\">Up&amp;Down</a></span></h1></div></article></li>,\n",
       " <li class=\"\"><article class=\"event-item clearfix small-item\" itemscope=\"\" itemtype=\"http://data-vocabulary.org/Event\"><span style=\"display:none;\"><time datetime=\"2019-05-31T00:00\" itemprop=\"startDate\">2019-05-31T00:00</time></span><div class=\"bbox\"><h1 class=\"event-title\" itemprop=\"summary\"><a href=\"/events/1266724\" itemprop=\"url\" title=\"Event details of Diving for Disco Rooftop with Jake From Extra Water &amp; Greg D\">Diving for Disco Rooftop with Jake From Extra Water &amp; Greg D</a> <span>at <a href=\"/club.aspx?id=117770\">Our Wicked Lady</a></span></h1></div></article></li>,\n",
       " <li><div class=\"but myra mt16\" style=\"width: 152px;\"><a href=\"/submit-event.aspx?ai=8\">Submit event</a></div></li>,\n",
       " <li><p class=\"eventDate date\"><a href=\"/events.aspx?ai=8&amp;v=day&amp;mn=6&amp;yr=2019&amp;dy=1\"><span>Sat, 01 Jun 2019 /</span></a></p></li>,\n",
       " <li class=\"\"><article class=\"event-item clearfix tickets-bkg-logo\" itemscope=\"\" itemtype=\"http://data-vocabulary.org/Event\"><a href=\"/events/1216915#tickets\"><img class=\"nohide\" src=\"https://residentadvisor.net/images/ra-tix.png\" style=\"height: 23px; width: 40px; right: 0px; position: absolute; top: 1px;\"/></a><span style=\"display:none;\"><time datetime=\"2019-06-01T00:00\" itemprop=\"startDate\">2019-06-01T00:00</time></span><a href=\"/events/1216915\"><img height=\"76\" src=\"/images/events/flyer/2019/6/us-0601-1216915-list.jpg\" width=\"152\"/></a><div class=\"bbox\"><h1 class=\"event-title\" itemprop=\"summary\"><a href=\"/events/1216915\" itemprop=\"url\" title=\"Event details of Lane 8: TNH Summer Gathering, Brooklyn - Sold Out\">Lane 8: TNH Summer Gathering, Brooklyn - Sold Out</a> <span>at <a href=\"/club.aspx?id=105938\">Brooklyn Mirage</a></span></h1><div class=\"grey event-lineup\">Lane 8, Ben Böhmer, Enamour</div><p class=\"attending\"><span>148</span> Attending</p></div></article></li>,\n",
       " <li class=\"\"><article class=\"event-item clearfix tickets-bkg-logo\" itemscope=\"\" itemtype=\"http://data-vocabulary.org/Event\"><a href=\"/events/1239440#tickets\"><img class=\"nohide\" src=\"https://residentadvisor.net/images/ra-tix.png\" style=\"height: 23px; width: 40px; right: 0px; position: absolute; top: 1px;\"/></a><span style=\"display:none;\"><time datetime=\"2019-06-01T00:00\" itemprop=\"startDate\">2019-06-01T00:00</time></span><a href=\"/events/1239440\"><img height=\"76\" src=\"/images/events/flyer/2019/6/us-0601-1239440-list.jpg\" width=\"152\"/></a><div class=\"bbox\"><h1 class=\"event-title\" itemprop=\"summary\"><a href=\"/events/1239440\" itemprop=\"url\" title=\"Event details of Souq NYC: Viken Arman, AKUMANDRA, Oceanvs Orientalis, Chaim &amp; More\">Souq NYC: Viken Arman, AKUMANDRA, Oceanvs Orientalis, Chaim &amp; More</a> <span>at <a href=\"/club.aspx?id=69401\">Knockdown Center</a></span></h1><div class=\"grey event-lineup\">Viken Arman, Oceanvs Orientalis, Feathered Sun, Akumandra, Chaim, Baris K, Acid Arab, Spaniol, Iorie, O/Y, Sorä</div><p class=\"attending\"><span>75</span> Attending</p></div></article></li>,\n",
       " <li class=\"\"><article class=\"event-item clearfix tickets-bkg-logo\" itemscope=\"\" itemtype=\"http://data-vocabulary.org/Event\"><a href=\"/events/1258010#tickets\"><img class=\"nohide\" src=\"https://residentadvisor.net/images/ra-tix.png\" style=\"height: 23px; width: 40px; right: 0px; position: absolute; top: 1px;\"/></a><span style=\"display:none;\"><time datetime=\"2019-06-01T00:00\" itemprop=\"startDate\">2019-06-01T00:00</time></span><a href=\"/events/1258010\"><img height=\"76\" src=\"/images/events/flyer/2019/6/us-0601-1258010-list.jpg\" width=\"152\"/></a><div class=\"bbox\"><h1 class=\"event-title\" itemprop=\"summary\"><a href=\"/events/1258010\" itemprop=\"url\" title=\"Event details of FJAAK / Newa / Aurora Halal\">FJAAK / Newa / Aurora Halal</a> <span>at <a href=\"/club.aspx?id=165976\">BASEMENT</a></span></h1><div class=\"grey event-lineup\"></div><p class=\"attending\"><span>72</span> Attending</p></div></article></li>,\n",
       " <li class=\"\"><article class=\"event-item pick clearfix tickets-bkg-logo\" itemscope=\"\" itemtype=\"http://data-vocabulary.org/Event\"><a href=\"/events/1254982#tickets\"><img class=\"nohide\" src=\"https://residentadvisor.net/images/ra-tix.png\" style=\"height: 23px; width: 40px; right: 0px; position: absolute; top: 1px;\"/></a><span style=\"display:none;\"><time datetime=\"2019-06-01T00:00\" itemprop=\"startDate\">2019-06-01T00:00</time></span><a href=\"/events/1254982\"><img height=\"76\" src=\"/images/events/flyer/2019/6/us-0601-1254982-list.jpg\" width=\"152\"/></a><div class=\"bbox\"><h1 class=\"event-title\" itemprop=\"summary\"><a href=\"/events/1254982\" itemprop=\"url\" title=\"Event details of Chez Damier, Jus-Ed and DJ Qu\">Chez Damier, Jus-Ed and DJ Qu</a> <span>at <a href=\"/club.aspx?id=139960\">Elsewhere</a></span></h1><div class=\"grey event-lineup\">HALL, └ Chez Damier, └ └ Jus-Ed, └└└ DJ Qu</div><p class=\"attending\"><span>25</span> Attending</p><div class=\"pick-intro\"><div class=\"pick-icon\">RA Pick</div>This lineup is a house music holy trinity. </div></div></article></li>,\n",
       " <li class=\"\"><article class=\"event-item clearfix tickets-bkg-logo\" itemscope=\"\" itemtype=\"http://data-vocabulary.org/Event\"><a href=\"/events/1264229#tickets\"><img class=\"nohide\" src=\"https://residentadvisor.net/images/ra-tix.png\" style=\"height: 23px; width: 40px; right: 0px; position: absolute; top: 1px;\"/></a><span style=\"display:none;\"><time datetime=\"2019-06-01T00:00\" itemprop=\"startDate\">2019-06-01T00:00</time></span><a href=\"/events/1264229\"><img height=\"76\" src=\"/images/events/flyer/2019/6/us-0601-1264229-list.jpg\" width=\"152\"/></a><div class=\"bbox\"><h1 class=\"event-title\" itemprop=\"summary\"><a href=\"/events/1264229\" itemprop=\"url\" title=\"Event details of Nails &amp; Wax: KHIDI 中 NYC Takeover\">Nails &amp; Wax: KHIDI 中 NYC Takeover</a> <span>at <span class=\"grey\" style=\"display:inline;\">TBA - Brooklyn</span></span></h1><div class=\"grey event-lineup\">Ròman, Vulkanski, Liza Rivs, Mr. Nails</div><p class=\"attending\"><span>20</span> Attending</p></div></article></li>,\n",
       " <li class=\"\"><article class=\"event-item pick clearfix tickets-bkg-logo\" itemscope=\"\" itemtype=\"http://data-vocabulary.org/Event\"><a href=\"/events/1254219#tickets\"><img class=\"nohide\" src=\"https://residentadvisor.net/images/ra-tix.png\" style=\"height: 23px; width: 40px; right: 0px; position: absolute; top: 1px;\"/></a><span style=\"display:none;\"><time datetime=\"2019-06-01T00:00\" itemprop=\"startDate\">2019-06-01T00:00</time></span><a href=\"/events/1254219\"><img height=\"76\" src=\"/images/events/flyer/2019/6/us-0601-1254219-list.jpg\" width=\"152\"/></a><div class=\"bbox\"><h1 class=\"event-title\" itemprop=\"summary\"><a href=\"/events/1254219\" itemprop=\"url\" title=\"Event details of Saturday: Dbridge and Blazer Sound System\">Saturday: Dbridge and Blazer Sound System</a> <span>at <a href=\"/club.aspx?id=105873\">Nowadays</a></span></h1><div class=\"grey event-lineup\">DBridge, Blazer Sound System</div><p class=\"attending\"><span>11</span> Attending</p><div class=\"pick-intro\"><div class=\"pick-icon\">RA Pick</div>Here's a rare chance to get your drum &amp; bass fix on this killer soundsystem. </div></div></article></li>,\n",
       " <li class=\"\"><article class=\"event-item clearfix tickets-bkg-logo\" itemscope=\"\" itemtype=\"http://data-vocabulary.org/Event\"><a href=\"/events/1261925#tickets\"><img class=\"nohide\" src=\"https://residentadvisor.net/images/ra-tix.png\" style=\"height: 23px; width: 40px; right: 0px; position: absolute; top: 1px;\"/></a><span style=\"display:none;\"><time datetime=\"2019-06-01T00:00\" itemprop=\"startDate\">2019-06-01T00:00</time></span><a href=\"/events/1261925\"><img height=\"76\" src=\"/images/events/flyer/2019/6/us-0601-1261925-list.jpg\" width=\"152\"/></a><div class=\"bbox\"><h1 class=\"event-title\" itemprop=\"summary\"><a href=\"/events/1261925\" itemprop=\"url\" title=\"Event details of Fantasies - Sail Into The Sunset\">Fantasies - Sail Into The Sunset</a> <span>at <a href=\"/club.aspx?id=6673\">Circle Line Cruises</a></span></h1><div class=\"grey event-lineup\">Jordi Iven, Cheric, Pierre De Beirut, Carol Ferraz</div><p class=\"attending\"><span>5</span> Attending</p></div></article></li>,\n",
       " <li class=\"\"><article class=\"event-item clearfix tickets-bkg-logo\" itemscope=\"\" itemtype=\"http://data-vocabulary.org/Event\"><a href=\"/events/1256079#tickets\"><img class=\"nohide\" src=\"https://residentadvisor.net/images/ra-tix.png\" style=\"height: 23px; width: 40px; right: 0px; position: absolute; top: 1px;\"/></a><span style=\"display:none;\"><time datetime=\"2019-06-01T00:00\" itemprop=\"startDate\">2019-06-01T00:00</time></span><a href=\"/events/1256079\"><img height=\"76\" src=\"/images/events/flyer/2019/6/us-0601-1256079-list.jpg\" width=\"152\"/></a><div class=\"bbox\"><h1 class=\"event-title\" itemprop=\"summary\"><a href=\"/events/1256079\" itemprop=\"url\" title=\"Event details of Juan Maclean (DJ set), JDH, Justin Strauss &amp; Billy Caldwell\">Juan Maclean (DJ set), JDH, Justin Strauss &amp; Billy Caldwell</a> <span>at <a href=\"/club.aspx?id=97606\">Good Room</a></span></h1><div class=\"grey event-lineup\">Good Room presents, The Juan MacLean, JDH, Love Tempo in the Bad Room, with Justin Strauss &amp; Billy Caldwell</div><p class=\"attending\"><span>4</span> Attending</p></div></article></li>,\n",
       " <li class=\"\"><article class=\"event-item clearfix tickets-bkg-logo small-item\" itemscope=\"\" itemtype=\"http://data-vocabulary.org/Event\"><a href=\"/events/1256748#tickets\"><img class=\"nohide\" src=\"https://residentadvisor.net/images/ra-tix.png\" style=\"height: 23px; width: 40px; right: 0px; position: absolute; top: 1px;\"/></a><span style=\"display:none;\"><time datetime=\"2019-06-01T00:00\" itemprop=\"startDate\">2019-06-01T00:00</time></span><div class=\"bbox\"><h1 class=\"event-title\" itemprop=\"summary\"><a href=\"/events/1256748\" itemprop=\"url\" title=\"Event details of Frequencies with Sleepy &amp; Boo\">Frequencies with Sleepy &amp; Boo</a> <span>at <a href=\"/club.aspx?id=75374\">TBA Brooklyn</a></span></h1></div></article></li>,\n",
       " <li class=\"\"><article class=\"event-item clearfix tickets-bkg-logo small-item\" itemscope=\"\" itemtype=\"http://data-vocabulary.org/Event\"><a href=\"/events/1266778#tickets\"><img class=\"nohide\" src=\"https://residentadvisor.net/images/ra-tix.png\" style=\"height: 23px; width: 40px; right: 0px; position: absolute; top: 1px;\"/></a><span style=\"display:none;\"><time datetime=\"2019-06-01T00:00\" itemprop=\"startDate\">2019-06-01T00:00</time></span><div class=\"bbox\"><h1 class=\"event-title\" itemprop=\"summary\"><a href=\"/events/1266778\" itemprop=\"url\" title=\"Event details of Bespoke Musik Pres. Doppelgänger (Joe Miller vs. Joe Miller)\">Bespoke Musik Pres. Doppelgänger (Joe Miller vs. Joe Miller)</a> <span>at <span class=\"grey\" style=\"display:inline;\">TBA - Brooklyn</span></span></h1></div></article></li>,\n",
       " <li class=\"\"><article class=\"event-item clearfix tickets-bkg-logo small-item\" itemscope=\"\" itemtype=\"http://data-vocabulary.org/Event\"><a href=\"/events/1247576#tickets\"><img class=\"nohide\" src=\"https://residentadvisor.net/images/ra-tix.png\" style=\"height: 23px; width: 40px; right: 0px; position: absolute; top: 1px;\"/></a><span style=\"display:none;\"><time datetime=\"2019-06-01T00:00\" itemprop=\"startDate\">2019-06-01T00:00</time></span><div class=\"bbox\"><h1 class=\"event-title\" itemprop=\"summary\"><a href=\"/events/1247576\" itemprop=\"url\" title=\"Event details of Incorrect After Hours Boat Party with Anthony Attalla and Harry Romero\">Incorrect After Hours Boat Party with Anthony Attalla and Harry Romero</a> <span>at <a href=\"/club.aspx?id=132098\">Pier 15</a></span></h1></div></article></li>,\n",
       " <li class=\"\"><article class=\"event-item clearfix tickets-bkg-logo small-item\" itemscope=\"\" itemtype=\"http://data-vocabulary.org/Event\"><a href=\"/events/1257344#tickets\"><img class=\"nohide\" src=\"https://residentadvisor.net/images/ra-tix.png\" style=\"height: 23px; width: 40px; right: 0px; position: absolute; top: 1px;\"/></a><span style=\"display:none;\"><time datetime=\"2019-06-01T00:00\" itemprop=\"startDate\">2019-06-01T00:00</time></span><div class=\"bbox\"><h1 class=\"event-title\" itemprop=\"summary\"><a href=\"/events/1257344\" itemprop=\"url\" title=\"Event details of Juicy Fruits with Tedd Patterson\">Juicy Fruits with Tedd Patterson</a> <span>at <a href=\"/club.aspx?id=21488\">House Of Yes</a></span></h1></div></article></li>,\n",
       " <li class=\"\"><article class=\"event-item clearfix small-item\" itemscope=\"\" itemtype=\"http://data-vocabulary.org/Event\"><span style=\"display:none;\"><time datetime=\"2019-06-01T00:00\" itemprop=\"startDate\">2019-06-01T00:00</time></span><div class=\"bbox\"><h1 class=\"event-title\" itemprop=\"summary\"><a href=\"/events/1254351\" itemprop=\"url\" title=\"Event details of Derrick Carter\">Derrick Carter</a> <span>at <a href=\"/club.aspx?id=36873\">Le Bain</a></span></h1></div></article></li>,\n",
       " <li class=\"\"><article class=\"event-item clearfix small-item\" itemscope=\"\" itemtype=\"http://data-vocabulary.org/Event\"><span style=\"display:none;\"><time datetime=\"2019-06-01T00:00\" itemprop=\"startDate\">2019-06-01T00:00</time></span><div class=\"bbox\"><h1 class=\"event-title\" itemprop=\"summary\"><a href=\"/events/1245637\" itemprop=\"url\" title=\"Event details of Crack 100: NYC Issue Launch with Beautiful Swimmers\">Crack 100: NYC Issue Launch with Beautiful Swimmers</a> <span>at <a href=\"/club.aspx?id=139960\">Elsewhere</a></span></h1></div></article></li>,\n",
       " <li class=\"\"><article class=\"event-item clearfix small-item\" itemscope=\"\" itemtype=\"http://data-vocabulary.org/Event\"><span style=\"display:none;\"><time datetime=\"2019-06-01T00:00\" itemprop=\"startDate\">2019-06-01T00:00</time></span><div class=\"bbox\"><h1 class=\"event-title\" itemprop=\"summary\"><a href=\"/events/1262408\" itemprop=\"url\" title=\"Event details of Ron Trent &amp; Friends\">Ron Trent &amp; Friends</a> <span>at <a href=\"/club.aspx?id=164270\">public records</a></span></h1></div></article></li>,\n",
       " <li class=\"\"><article class=\"event-item pick clearfix small-item\" itemscope=\"\" itemtype=\"http://data-vocabulary.org/Event\"><span style=\"display:none;\"><time datetime=\"2019-06-01T00:00\" itemprop=\"startDate\">2019-06-01T00:00</time></span><div class=\"bbox\"><h1 class=\"event-title\" itemprop=\"summary\"><a href=\"/events/1255174\" itemprop=\"url\" title=\"Event details of The Level Beach Party ~ June\">The Level Beach Party ~ June</a> <span>at <a href=\"/club.aspx?id=151337\">Riis Park Beach Bazaar</a></span></h1><div class=\"pick-intro\"><div class=\"pick-icon\">RA Pick</div>A free party on the boardwalk at Riis Beach in the Rockaways. As if that weren't enough, Galcher Lustwerk is also playing. </div></div></article></li>,\n",
       " <li class=\"\"><article class=\"event-item clearfix small-item\" itemscope=\"\" itemtype=\"http://data-vocabulary.org/Event\"><span style=\"display:none;\"><time datetime=\"2019-06-01T00:00\" itemprop=\"startDate\">2019-06-01T00:00</time></span><div class=\"bbox\"><h1 class=\"event-title\" itemprop=\"summary\"><a href=\"/events/1254456\" itemprop=\"url\" title=\"Event details of Amit by Driven AM\">Amit by Driven AM</a> <span>at <a href=\"/club.aspx?id=114926\">Sunnyvale</a></span></h1></div></article></li>,\n",
       " <li class=\"\"><article class=\"event-item clearfix small-item\" itemscope=\"\" itemtype=\"http://data-vocabulary.org/Event\"><span style=\"display:none;\"><time datetime=\"2019-06-01T00:00\" itemprop=\"startDate\">2019-06-01T00:00</time></span><div class=\"bbox\"><h1 class=\"event-title\" itemprop=\"summary\"><a href=\"/events/1257881\" itemprop=\"url\" title=\"Event details of Moonlight In Paradise with Nosaj Thing, DJ Spinna, The Whooligan &amp; More\">Moonlight In Paradise with Nosaj Thing, DJ Spinna, The Whooligan &amp; More</a> <span>at <a href=\"/club.aspx?id=97635\">Hornblower Infinity</a></span></h1></div></article></li>,\n",
       " <li class=\"\"><article class=\"event-item clearfix small-item\" itemscope=\"\" itemtype=\"http://data-vocabulary.org/Event\"><span style=\"display:none;\"><time datetime=\"2019-06-01T00:00\" itemprop=\"startDate\">2019-06-01T00:00</time></span><div class=\"bbox\"><h1 class=\"event-title\" itemprop=\"summary\"><a href=\"/events/1265298\" itemprop=\"url\" title=\"Event details of Buddy Buddy Buffalo Pride with Aaron Clark, Jason Kendig and Leeon\">Buddy Buddy Buffalo Pride with Aaron Clark, Jason Kendig and Leeon</a> <span>at <a href=\"/club.aspx?id=163540\">The Underground Niteclub</a>, <a href=\"/events.aspx?ai=443\">Buffalo/Rochester</a></span></h1></div></article></li>,\n",
       " <li class=\"\"><article class=\"event-item clearfix small-item\" itemscope=\"\" itemtype=\"http://data-vocabulary.org/Event\"><span style=\"display:none;\"><time datetime=\"2019-06-01T00:00\" itemprop=\"startDate\">2019-06-01T00:00</time></span><div class=\"bbox\"><h1 class=\"event-title\" itemprop=\"summary\"><a href=\"/events/1234797\" itemprop=\"url\" title=\"Event details of Hardside with Headhunterz\">Hardside with Headhunterz</a> <span>at <a href=\"/club.aspx?id=19281\">Market Hotel</a></span></h1></div></article></li>,\n",
       " <li class=\"\"><article class=\"event-item clearfix small-item\" itemscope=\"\" itemtype=\"http://data-vocabulary.org/Event\"><span style=\"display:none;\"><time datetime=\"2019-06-01T00:00\" itemprop=\"startDate\">2019-06-01T00:00</time></span><div class=\"bbox\"><h1 class=\"event-title\" itemprop=\"summary\"><a href=\"/events/1249612\" itemprop=\"url\" title=\"Event details of 2019 Pulse Wave Party\">2019 Pulse Wave Party</a> <span>at <a href=\"/club.aspx?id=87402\">Melrose Ballroom</a></span></h1></div></article></li>,\n",
       " <li class=\"\"><article class=\"event-item clearfix small-item\" itemscope=\"\" itemtype=\"http://data-vocabulary.org/Event\"><span style=\"display:none;\"><time datetime=\"2019-06-01T00:00\" itemprop=\"startDate\">2019-06-01T00:00</time></span><div class=\"bbox\"><h1 class=\"event-title\" itemprop=\"summary\"><a href=\"/events/1255163\" itemprop=\"url\" title=\"Event details of Banger 3 with Timmy Regisford, Stan Zeff, Ruben Toro +More\">Banger 3 with Timmy Regisford, Stan Zeff, Ruben Toro +More</a> <span>at <a href=\"/club.aspx?id=51557\">Copacabana</a></span></h1></div></article></li>,\n",
       " <li class=\"\"><article class=\"event-item clearfix small-item\" itemscope=\"\" itemtype=\"http://data-vocabulary.org/Event\"><span style=\"display:none;\"><time datetime=\"2019-06-01T00:00\" itemprop=\"startDate\">2019-06-01T00:00</time></span><div class=\"bbox\"><h1 class=\"event-title\" itemprop=\"summary\"><a href=\"/events/1259926\" itemprop=\"url\" title=\"Event details of Tarek Atoui: Organ Within ft.C. Spencer Yeh\">Tarek Atoui: Organ Within ft.C. Spencer Yeh</a> <span>at <a href=\"/club.aspx?id=167752\">Kurimanzutto</a></span></h1></div></article></li>,\n",
       " <li class=\"\"><article class=\"event-item clearfix small-item\" itemscope=\"\" itemtype=\"http://data-vocabulary.org/Event\"><span style=\"display:none;\"><time datetime=\"2019-06-01T00:00\" itemprop=\"startDate\">2019-06-01T00:00</time></span><div class=\"bbox\"><h1 class=\"event-title\" itemprop=\"summary\"><a href=\"/events/1266218\" itemprop=\"url\" title=\"Event details of Union: Sessions / Techno &amp; House All Night\">Union: Sessions / Techno &amp; House All Night</a> <span>at <a href=\"/club.aspx?id=156758\">Eris</a></span></h1></div></article></li>,\n",
       " <li class=\"\"><article class=\"event-item clearfix tickets-bkg-logo small-item\" itemscope=\"\" itemtype=\"http://data-vocabulary.org/Event\"><a href=\"/events/1243073#tickets\"><img class=\"nohide\" src=\"https://residentadvisor.net/images/ra-tix.png\" style=\"height: 23px; width: 40px; right: 0px; position: absolute; top: 1px;\"/></a><span style=\"display:none;\"><time datetime=\"2019-06-01T00:00\" itemprop=\"startDate\">2019-06-01T00:00</time></span><div class=\"bbox\"><h1 class=\"event-title\" itemprop=\"summary\"><a href=\"/events/1243073\" itemprop=\"url\" title=\"Event details of Pump Up The Volume Midnight Yacht Cruise\">Pump Up The Volume Midnight Yacht Cruise</a> <span>at <a href=\"/club.aspx?id=31804\">Harbor Lights Yacht</a></span></h1></div></article></li>,\n",
       " <li class=\"\"><article class=\"event-item clearfix small-item\" itemscope=\"\" itemtype=\"http://data-vocabulary.org/Event\"><span style=\"display:none;\"><time datetime=\"2019-06-01T00:00\" itemprop=\"startDate\">2019-06-01T00:00</time></span><div class=\"bbox\"><h1 class=\"event-title\" itemprop=\"summary\"><a href=\"/events/1260932\" itemprop=\"url\" title=\"Event details of Fomo presents TAP.10, Darling Chuck and Special Guests\">Fomo presents TAP.10, Darling Chuck and Special Guests</a> <span>at <a href=\"/club.aspx?id=139960\">Elsewhere</a></span></h1></div></article></li>,\n",
       " <li class=\"\"><article class=\"event-item clearfix small-item\" itemscope=\"\" itemtype=\"http://data-vocabulary.org/Event\"><span style=\"display:none;\"><time datetime=\"2019-06-01T00:00\" itemprop=\"startDate\">2019-06-01T00:00</time></span><div class=\"bbox\"><h1 class=\"event-title\" itemprop=\"summary\"><a href=\"/events/1266442\" itemprop=\"url\" title=\"Event details of Cabaret Fiesta\">Cabaret Fiesta</a> <span>at <span class=\"grey\" style=\"display:inline;\">Tease Lounge</span></span></h1></div></article></li>,\n",
       " <li class=\"\"><article class=\"event-item clearfix small-item\" itemscope=\"\" itemtype=\"http://data-vocabulary.org/Event\"><span style=\"display:none;\"><time datetime=\"2019-06-01T00:00\" itemprop=\"startDate\">2019-06-01T00:00</time></span><div class=\"bbox\"><h1 class=\"event-title\" itemprop=\"summary\"><a href=\"/events/1242658\" itemprop=\"url\" title=\"Event details of Outdoorfest NYC Campout\">Outdoorfest NYC Campout</a> <span>at <a href=\"/club.aspx?id=119468\">Henry Kaufmann Campgrounds</a></span></h1></div></article></li>,\n",
       " <li><div class=\"but myra mt16\" style=\"width: 152px;\"><a href=\"/submit-event.aspx?ai=8\">Submit event</a></div></li>,\n",
       " <li><p class=\"eventDate date\"><a href=\"/events.aspx?ai=8&amp;v=day&amp;mn=6&amp;yr=2019&amp;dy=2\"><span>Sun, 02 Jun 2019 /</span></a></p></li>,\n",
       " <li class=\"\"><article class=\"event-item clearfix tickets-bkg-logo\" itemscope=\"\" itemtype=\"http://data-vocabulary.org/Event\"><a href=\"/events/1239440#tickets\"><img class=\"nohide\" src=\"https://residentadvisor.net/images/ra-tix.png\" style=\"height: 23px; width: 40px; right: 0px; position: absolute; top: 1px;\"/></a><span style=\"display:none;\"><time datetime=\"2019-06-02T00:00\" itemprop=\"startDate\">2019-06-02T00:00</time></span><a href=\"/events/1239440\"><img height=\"76\" src=\"/images/events/flyer/2019/6/us-0601-1239440-list.jpg\" width=\"152\"/></a><div class=\"bbox\"><h1 class=\"event-title\" itemprop=\"summary\"><a href=\"/events/1239440\" itemprop=\"url\" title=\"Event details of Souq NYC: Viken Arman, AKUMANDRA, Oceanvs Orientalis, Chaim &amp; More\">Souq NYC: Viken Arman, AKUMANDRA, Oceanvs Orientalis, Chaim &amp; More</a> <span>at <a href=\"/club.aspx?id=69401\">Knockdown Center</a></span></h1><div class=\"grey event-lineup\">Viken Arman, Oceanvs Orientalis, Feathered Sun, Akumandra, Chaim, Baris K, Acid Arab, Spaniol, Iorie, O/Y, Sorä</div><p class=\"attending\"><span>75</span> Attending</p></div></article></li>,\n",
       " <li class=\"\"><article class=\"event-item clearfix tickets-bkg-logo\" itemscope=\"\" itemtype=\"http://data-vocabulary.org/Event\"><a href=\"/events/1254210#tickets\"><img class=\"nohide\" src=\"https://residentadvisor.net/images/ra-tix.png\" style=\"height: 23px; width: 40px; right: 0px; position: absolute; top: 1px;\"/></a><span style=\"display:none;\"><time datetime=\"2019-06-02T00:00\" itemprop=\"startDate\">2019-06-02T00:00</time></span><a href=\"/events/1254210\"><img height=\"76\" src=\"/images/events/flyer/2019/6/us-0602-1254210-list.jpg\" width=\"152\"/></a><div class=\"bbox\"><h1 class=\"event-title\" itemprop=\"summary\"><a href=\"/events/1254210\" itemprop=\"url\" title=\"Event details of Mister Sunday: Beta Librae and Eamon Harkin\">Mister Sunday: Beta Librae and Eamon Harkin</a> <span>at <a href=\"/club.aspx?id=105873\">Nowadays</a></span></h1><div class=\"grey event-lineup\">Eamon Harkin, Beta Librae</div><p class=\"attending\"><span>9</span> Attending</p></div></article></li>,\n",
       " <li class=\"\"><article class=\"event-item clearfix\" itemscope=\"\" itemtype=\"http://data-vocabulary.org/Event\"><span style=\"display:none;\"><time datetime=\"2019-06-02T00:00\" itemprop=\"startDate\">2019-06-02T00:00</time></span><a href=\"/events/1245637\"><img height=\"76\" src=\"/images/events/flyer/2019/6/us-0601-1245637-list.jpg\" width=\"152\"/></a><div class=\"bbox\"><h1 class=\"event-title\" itemprop=\"summary\"><a href=\"/events/1245637\" itemprop=\"url\" title=\"Event details of Crack 100: NYC Issue Launch with Beautiful Swimmers\">Crack 100: NYC Issue Launch with Beautiful Swimmers</a> <span>at <a href=\"/club.aspx?id=139960\">Elsewhere</a></span></h1><div class=\"grey event-lineup\">Beautiful Swimmers</div><p class=\"attending\"><span>16</span> Attending</p></div></article></li>,\n",
       " <li class=\"\"><article class=\"event-item clearfix\" itemscope=\"\" itemtype=\"http://data-vocabulary.org/Event\"><span style=\"display:none;\"><time datetime=\"2019-06-02T00:00\" itemprop=\"startDate\">2019-06-02T00:00</time></span><a href=\"/events/1251441\"><img height=\"76\" src=\"/images/events/flyer/2019/6/us-0602-1251441-list.jpg\" width=\"152\"/></a><div class=\"bbox\"><h1 class=\"event-title\" itemprop=\"summary\"><a href=\"/events/1251441\" itemprop=\"url\" title=\"Event details of Walk To Cure Arthritis - New York City\">Walk To Cure Arthritis - New York City</a> <span>at <a href=\"/club.aspx?id=167271\">The Intrepid Sea, Air &amp; Space Museum</a></span></h1><div class=\"grey event-lineup\">Geo Vanasco</div><p class=\"attending\"><span>1</span> Attending</p></div></article></li>,\n",
       " <li class=\"\"><article class=\"event-item clearfix small-item\" itemscope=\"\" itemtype=\"http://data-vocabulary.org/Event\"><span style=\"display:none;\"><time datetime=\"2019-06-02T00:00\" itemprop=\"startDate\">2019-06-02T00:00</time></span><div class=\"bbox\"><h1 class=\"event-title\" itemprop=\"summary\"><a href=\"/events/1266063\" itemprop=\"url\" title=\"Event details of Sunday Soiree: Nozen, Omii\">Sunday Soiree: Nozen, Omii</a> <span>at <a href=\"/club.aspx?id=75374\">TBA Brooklyn</a></span></h1></div></article></li>,\n",
       " <li class=\"\"><article class=\"event-item clearfix small-item\" itemscope=\"\" itemtype=\"http://data-vocabulary.org/Event\"><span style=\"display:none;\"><time datetime=\"2019-06-02T00:00\" itemprop=\"startDate\">2019-06-02T00:00</time></span><div class=\"bbox\"><h1 class=\"event-title\" itemprop=\"summary\"><a href=\"/events/1267204\" itemprop=\"url\" title=\"Event details of Assemble\">Assemble</a> <span>at <a href=\"/club.aspx?id=137550\">H0L0</a></span></h1></div></article></li>,\n",
       " <li><div class=\"but myra mt16\" style=\"width: 152px;\"><a href=\"/submit-event.aspx?ai=8\">Submit event</a></div></li>,\n",
       " <li><p class=\"eventDate date\"><a href=\"/events.aspx?ai=8&amp;v=day&amp;mn=6&amp;yr=2019&amp;dy=4\"><span>Tue, 04 Jun 2019 /</span></a></p></li>,\n",
       " <li class=\"\"><article class=\"event-item clearfix\" itemscope=\"\" itemtype=\"http://data-vocabulary.org/Event\"><span style=\"display:none;\"><time datetime=\"2019-06-04T00:00\" itemprop=\"startDate\">2019-06-04T00:00</time></span><a href=\"/events/1267049\"><img height=\"76\" src=\"/images/events/flyer/2019/6/us-0604-1267049-list.jpg\" width=\"152\"/></a><div class=\"bbox\"><h1 class=\"event-title\" itemprop=\"summary\"><a href=\"/events/1267049\" itemprop=\"url\" title=\"Event details of Anti-Social Tuesday with Yme?? and Friends\">Anti-Social Tuesday with Yme?? and Friends</a> <span>at <a href=\"/club.aspx?id=75374\">TBA Brooklyn</a></span></h1><div class=\"grey event-lineup\">YME? and Friends</div><p class=\"attending\"><span>1</span> Attending</p></div></article></li>,\n",
       " <li class=\"\"><article class=\"event-item clearfix\" itemscope=\"\" itemtype=\"http://data-vocabulary.org/Event\"><span style=\"display:none;\"><time datetime=\"2019-06-04T00:00\" itemprop=\"startDate\">2019-06-04T00:00</time></span><a href=\"/events/1265716\"><img height=\"76\" src=\"/images/events/flyer/2019/6/us-0604-1265716-list.jpg\" width=\"152\"/></a><div class=\"bbox\"><h1 class=\"event-title\" itemprop=\"summary\"><a href=\"/events/1265716\" itemprop=\"url\" title=\"Event details of Feel Real with DJ Disciple, Ejoe Wilson + Friends\">Feel Real with DJ Disciple, Ejoe Wilson + Friends</a> <span>at <a href=\"/club.aspx?id=117093\">Rumpus Room</a></span></h1><div class=\"grey event-lineup\">DJ Disciple, Ejoe Wilson, Daniel Scala, DJ Mekhanik</div></div></article></li>]"
      ]
     },
     "execution_count": 23,
     "metadata": {},
     "output_type": "execute_result"
    }
   ],
   "source": [
    "soup_to_event_list(soup).findAll(\"li\",attrs={\"class\":\"\"})"
   ]
  },
  {
   "cell_type": "code",
   "execution_count": 1,
   "metadata": {},
   "outputs": [],
   "source": []
  },
  {
   "cell_type": "code",
   "execution_count": 35,
   "metadata": {},
   "outputs": [
    {
     "data": {
      "text/plain": [
       "bs4.element.Tag"
      ]
     },
     "execution_count": 35,
     "metadata": {},
     "output_type": "execute_result"
    }
   ],
   "source": [
    "type(soup.find(\"ul\"))"
   ]
  },
  {
   "cell_type": "code",
   "execution_count": 16,
   "metadata": {},
   "outputs": [
    {
     "data": {
      "text/plain": [
       "<ul class=\"list\" id=\"items\">\n",
       "<li><p class=\"eventDate date\"><a href=\"/events.aspx?ai=8&amp;v=day&amp;mn=5&amp;yr=2019&amp;dy=29\"><span>Wed, 29 May 2019 /</span></a></p></li><li class=\"\"><article class=\"event-item clearfix tickets-bkg-logo\" itemscope=\"\" itemtype=\"http://data-vocabulary.org/Event\"><a href=\"/events/1254991#tickets\"><img class=\"nohide\" src=\"https://residentadvisor.net/images/ra-tix.png\" style=\"height: 23px; width: 40px; right: 0px; position: absolute; top: 1px;\"/></a><span style=\"display:none;\"><time datetime=\"2019-05-29T00:00\" itemprop=\"startDate\">2019-05-29T00:00</time></span><a href=\"/events/1254991\"><img height=\"76\" src=\"/images/events/flyer/2019/5/us-0529-1254991-list.jpg\" width=\"152\"/></a><div class=\"bbox\"><h1 class=\"event-title\" itemprop=\"summary\"><a href=\"/events/1254991\" itemprop=\"url\" title=\"Event details of Twin Shadow (DJ Set), Day Cart &amp; Wig-Wam at Elsewhere Rooftop\">Twin Shadow (DJ Set), Day Cart &amp; Wig-Wam at Elsewhere Rooftop</a> <span>at <a href=\"/club.aspx?id=139960\">Elsewhere</a></span></h1><div class=\"grey event-lineup\">ROOFTOP, └ Twin Shadow, └ └ Day Cart &amp; Wig-Wam</div><p class=\"attending\"><span>2</span> Attending</p></div></article></li><li class=\"\"><article class=\"event-item clearfix\" itemscope=\"\" itemtype=\"http://data-vocabulary.org/Event\"><span style=\"display:none;\"><time datetime=\"2019-05-29T00:00\" itemprop=\"startDate\">2019-05-29T00:00</time></span><a href=\"/events/1257373\"><img height=\"76\" src=\"/images/events/flyer/2019/5/us-0529-1257373-list.jpg\" width=\"152\"/></a><div class=\"bbox\"><h1 class=\"event-title\" itemprop=\"summary\"><a href=\"/events/1257373\" itemprop=\"url\" title=\"Event details of Bateria with Toribio, Mickey Pérez and Djoy de Cuba\">Bateria with Toribio, Mickey Pérez and Djoy de Cuba</a> <span>at <a href=\"/club.aspx?id=97606\">Good Room</a></span></h1><div class=\"grey event-lineup\">Good Room presents, Bateria, with, TORIBIO, DJ Mickey Perez, Djoy de Cuba</div><p class=\"attending\"><span>3</span> Attending</p></div></article></li><li class=\"\"><article class=\"event-item clearfix\" itemscope=\"\" itemtype=\"http://data-vocabulary.org/Event\"><span style=\"display:none;\"><time datetime=\"2019-05-29T00:00\" itemprop=\"startDate\">2019-05-29T00:00</time></span><a href=\"/events/1263630\"><img height=\"76\" src=\"/images/events/flyer/2019/5/us-0529-1263630-list.jpg\" width=\"152\"/></a><div class=\"bbox\"><h1 class=\"event-title\" itemprop=\"summary\"><a href=\"/events/1263630\" itemprop=\"url\" title=\"Event details of Undisclosed with Fabian Castellanos, Andres Betancourt, Juan Jimenez, Snufff\">Undisclosed with Fabian Castellanos, Andres Betancourt, Juan Jimenez, Snufff</a> <span>at <a href=\"/club.aspx?id=75374\">TBA Brooklyn</a></span></h1><div class=\"grey event-lineup\">Fabian Castellanos, Andres Betancourt, Juan Jimenez, Snufff</div><p class=\"attending\"><span>2</span> Attending</p></div></article></li><li><p class=\"eventDate date\"><a href=\"/events.aspx?ai=8&amp;v=day&amp;mn=5&amp;yr=2019&amp;dy=30\"><span>Thu, 30 May 2019 /</span></a></p></li><li class=\"\"><article class=\"event-item clearfix tickets-bkg-logo\" itemscope=\"\" itemtype=\"http://data-vocabulary.org/Event\"><a href=\"/events/1255007#tickets\"><img class=\"nohide\" src=\"https://residentadvisor.net/images/ra-tix.png\" style=\"height: 23px; width: 40px; right: 0px; position: absolute; top: 1px;\"/></a><span style=\"display:none;\"><time datetime=\"2019-05-30T00:00\" itemprop=\"startDate\">2019-05-30T00:00</time></span><a href=\"/events/1255007\"><img height=\"76\" src=\"/images/events/flyer/2019/5/us-0530-1255007-list.jpg\" width=\"152\"/></a><div class=\"bbox\"><h1 class=\"event-title\" itemprop=\"summary\"><a href=\"/events/1255007\" itemprop=\"url\" title=\"Event details of TEOREMA • New York 2019\">TEOREMA • New York 2019</a> <span>at <a href=\"/club.aspx?id=165116\">Hart bar</a></span></h1><div class=\"grey event-lineup\">TBA, Ulysses, Upsetter aka pictureplane, Bpmf, Pulsewidthmod, Certain Creatures, Squaric, Rodrigo Garcia</div><p class=\"attending\"><span>6</span> Attending</p></div></article></li><li class=\"\"><article class=\"event-item clearfix tickets-bkg-logo\" itemscope=\"\" itemtype=\"http://data-vocabulary.org/Event\"><a href=\"/events/1266184#tickets\"><img class=\"nohide\" src=\"https://residentadvisor.net/images/ra-tix.png\" style=\"height: 23px; width: 40px; right: 0px; position: absolute; top: 1px;\"/></a><span style=\"display:none;\"><time datetime=\"2019-05-30T00:00\" itemprop=\"startDate\">2019-05-30T00:00</time></span><a href=\"/events/1266184\"><img height=\"76\" src=\"/images/events/flyer/2019/5/us-0530-1266184-list.jpg\" width=\"152\"/></a><div class=\"bbox\"><h1 class=\"event-title\" itemprop=\"summary\"><a href=\"/events/1266184\" itemprop=\"url\" title=\"Event details of Antenes (DJ set), Brothers (Speculator &amp; Sangre)\">Antenes (DJ set), Brothers (Speculator &amp; Sangre)</a> <span>at <a href=\"/club.aspx?id=97606\">Good Room</a></span></h1><div class=\"grey event-lineup\">Good Room presents, Antenes, Brothers</div><p class=\"attending\"><span>3</span> Attending</p></div></article></li><li class=\"\"><article class=\"event-item clearfix\" itemscope=\"\" itemtype=\"http://data-vocabulary.org/Event\"><span style=\"display:none;\"><time datetime=\"2019-05-30T00:00\" itemprop=\"startDate\">2019-05-30T00:00</time></span><a href=\"/events/1261912\"><img height=\"76\" src=\"/images/events/flyer/2019/5/us-0530-1261912-list.jpg\" width=\"152\"/></a><div class=\"bbox\"><h1 class=\"event-title\" itemprop=\"summary\"><a href=\"/events/1261912\" itemprop=\"url\" title=\"Event details of 35s &amp; 45s Exhibition No. 5\">35s &amp; 45s Exhibition No. 5</a> <span>at <a href=\"/club.aspx?id=159837\">Ponyboy</a></span></h1><div class=\"grey event-lineup\">DJ Sheila B, Rich Medina, 35s &amp; 45s Residents</div><p class=\"attending\"><span>2</span> Attending</p></div></article></li><li class=\"\"><article class=\"event-item clearfix\" itemscope=\"\" itemtype=\"http://data-vocabulary.org/Event\"><span style=\"display:none;\"><time datetime=\"2019-05-30T00:00\" itemprop=\"startDate\">2019-05-30T00:00</time></span><a href=\"/events/1265457\"><img height=\"76\" src=\"/images/events/flyer/2019/5/us-0530-1265457-list.jpg\" width=\"152\"/></a><div class=\"bbox\"><h1 class=\"event-title\" itemprop=\"summary\"><a href=\"/events/1265457\" itemprop=\"url\" title=\"Event details of Perreo Intenso\">Perreo Intenso</a> <span>at <a href=\"/club.aspx?id=141852\">Mood Ring</a></span></h1><div class=\"grey event-lineup\">JOSELO, TAKI CHULA, ROD-A, STORMY DANIEL</div><p class=\"attending\"><span>2</span> Attending</p></div></article></li><li class=\"\"><article class=\"event-item clearfix\" itemscope=\"\" itemtype=\"http://data-vocabulary.org/Event\"><span style=\"display:none;\"><time datetime=\"2019-05-30T00:00\" itemprop=\"startDate\">2019-05-30T00:00</time></span><a href=\"/events/1256131\"><img height=\"76\" src=\"/images/events/flyer/2019/5/us-0530-1256131-list.jpg\" width=\"152\"/></a><div class=\"bbox\"><h1 class=\"event-title\" itemprop=\"summary\"><a href=\"/events/1256131\" itemprop=\"url\" title=\"Event details of Sistaspin Residency with D3ad6oy, Dime, Jody, Baby.com and Bryn Barnett\">Sistaspin Residency with D3ad6oy, Dime, Jody, Baby.com and Bryn Barnett</a> <span>at <a href=\"/club.aspx?id=139960\">Elsewhere</a></span></h1><div class=\"grey event-lineup\">LOFT, Sistaspin Residency w, └ D3ad6oy, └ Dime, └ Jody, └ Baby.com, └ Bryn Barnett</div><p class=\"attending\"><span>1</span> Attending</p></div></article></li><li class=\"\"><article class=\"event-item clearfix\" itemscope=\"\" itemtype=\"http://data-vocabulary.org/Event\"><span style=\"display:none;\"><time datetime=\"2019-05-30T00:00\" itemprop=\"startDate\">2019-05-30T00:00</time></span><a href=\"/events/1258385\"><img height=\"76\" src=\"/images/events/flyer/2019/5/us-0530-1258385-list.jpg\" width=\"152\"/></a><div class=\"bbox\"><h1 class=\"event-title\" itemprop=\"summary\"><a href=\"/events/1258385\" itemprop=\"url\" title=\"Event details of Sputnik Disco Yoga Festival Decompression Party\">Sputnik Disco Yoga Festival Decompression Party</a> <span>at <a href=\"/club.aspx?id=119168\">Bogart House</a></span></h1><div class=\"grey event-lineup\">Amber Valentine</div><p class=\"attending\"><span>1</span> Attending</p></div></article></li><li><div class=\"but myra mt16\" style=\"width: 152px;\"><a href=\"/submit-event.aspx?ai=8\">Submit event</a></div></li><li><p class=\"eventDate date\"><a href=\"/events.aspx?ai=8&amp;v=day&amp;mn=5&amp;yr=2019&amp;dy=31\"><span>Fri, 31 May 2019 /</span></a></p></li><li class=\"\"><article class=\"event-item clearfix tickets-bkg-logo\" itemscope=\"\" itemtype=\"http://data-vocabulary.org/Event\"><a href=\"/events/1232648#tickets\"><img class=\"nohide\" src=\"https://residentadvisor.net/images/ra-tix.png\" style=\"height: 23px; width: 40px; right: 0px; position: absolute; top: 1px;\"/></a><span style=\"display:none;\"><time datetime=\"2019-05-31T00:00\" itemprop=\"startDate\">2019-05-31T00:00</time></span><a href=\"/events/1232648\"><img height=\"76\" src=\"/images/events/flyer/2019/5/us-0531-1232648-list.jpg\" width=\"152\"/></a><div class=\"bbox\"><h1 class=\"event-title\" itemprop=\"summary\"><a href=\"/events/1232648\" itemprop=\"url\" title=\"Event details of Teksupport: Nicole Moudaber (All Night Long)\">Teksupport: Nicole Moudaber (All Night Long)</a> <span>at <a href=\"/club.aspx?id=103503\">99 Scott Ave</a></span></h1><div class=\"grey event-lineup\">Nicole Moudaber</div><p class=\"attending\"><span>199</span> Attending</p></div></article></li><li class=\"\"><article class=\"event-item clearfix tickets-bkg-logo\" itemscope=\"\" itemtype=\"http://data-vocabulary.org/Event\"><a href=\"/events/1243410#tickets\"><img class=\"nohide\" src=\"https://residentadvisor.net/images/ra-tix.png\" style=\"height: 23px; width: 40px; right: 0px; position: absolute; top: 1px;\"/></a><span style=\"display:none;\"><time datetime=\"2019-05-31T00:00\" itemprop=\"startDate\">2019-05-31T00:00</time></span><a href=\"/events/1243410\"><img height=\"76\" src=\"/images/events/flyer/2019/5/us-0531-1243410-list.jpg\" width=\"152\"/></a><div class=\"bbox\"><h1 class=\"event-title\" itemprop=\"summary\"><a href=\"/events/1243410\" itemprop=\"url\" title=\"Event details of Zero Rooftop Series: Gazgolder x Limited Edition\">Zero Rooftop Series: Gazgolder x Limited Edition</a> <span>at <a href=\"/club.aspx?id=165039\">The Williamsburg Hotel Water Tower</a></span></h1><div class=\"grey event-lineup\">Timujin, Azamat, Zakir, Lovecraft</div><p class=\"attending\"><span>117</span> Attending</p></div></article></li><li class=\"\"><article class=\"event-item pick clearfix tickets-bkg-logo\" itemscope=\"\" itemtype=\"http://data-vocabulary.org/Event\"><a href=\"/events/1239643#tickets\"><img class=\"nohide\" src=\"https://residentadvisor.net/images/ra-tix.png\" style=\"height: 23px; width: 40px; right: 0px; position: absolute; top: 1px;\"/></a><span style=\"display:none;\"><time datetime=\"2019-05-31T00:00\" itemprop=\"startDate\">2019-05-31T00:00</time></span><a href=\"/events/1239643\"><img height=\"76\" src=\"/images/events/flyer/2019/5/us-0531-1239643-list.jpg\" width=\"152\"/></a><div class=\"bbox\"><h1 class=\"event-title\" itemprop=\"summary\"><a href=\"/events/1239643\" itemprop=\"url\" title=\"Event details of Tommy Four Seven / Silent Servant / Katie Rex\">Tommy Four Seven / Silent Servant / Katie Rex</a> <span>at <a href=\"/club.aspx?id=165976\">BASEMENT</a></span></h1><div class=\"grey event-lineup\"></div><p class=\"attending\"><span>83</span> Attending</p><div class=\"pick-intro\"><div class=\"pick-icon\">RA Pick</div>It's a goth techno beatdown at New York's newest subterranean dance spot.</div></div></article></li><li class=\"\"><article class=\"event-item clearfix tickets-bkg-logo\" itemscope=\"\" itemtype=\"http://data-vocabulary.org/Event\"><a href=\"/events/1259582#tickets\"><img class=\"nohide\" src=\"https://residentadvisor.net/images/ra-tix.png\" style=\"height: 23px; width: 40px; right: 0px; position: absolute; top: 1px;\"/></a><span style=\"display:none;\"><time datetime=\"2019-05-31T00:00\" itemprop=\"startDate\">2019-05-31T00:00</time></span><a href=\"/events/1259582\"><img height=\"76\" src=\"/images/events/flyer/2019/5/us-0531-1259582-list.jpg\" width=\"152\"/></a><div class=\"bbox\"><h1 class=\"event-title\" itemprop=\"summary\"><a href=\"/events/1259582\" itemprop=\"url\" title=\"Event details of Harder Brooklyn\">Harder Brooklyn</a> <span>at <a href=\"/club.aspx?id=159838\">3 Dollar Bill</a></span></h1><div class=\"grey event-lineup\">Eric Bloom, Lauren Flax</div><p class=\"attending\"><span>34</span> Attending</p></div></article></li><li class=\"\"><article class=\"event-item clearfix tickets-bkg-logo\" itemscope=\"\" itemtype=\"http://data-vocabulary.org/Event\"><a href=\"/events/1258207#tickets\"><img class=\"nohide\" src=\"https://residentadvisor.net/images/ra-tix.png\" style=\"height: 23px; width: 40px; right: 0px; position: absolute; top: 1px;\"/></a><span style=\"display:none;\"><time datetime=\"2019-05-31T00:00\" itemprop=\"startDate\">2019-05-31T00:00</time></span><a href=\"/events/1258207\"><img height=\"76\" src=\"/images/events/flyer/2019/5/us-0531-1258207-list.jpg\" width=\"152\"/></a><div class=\"bbox\"><h1 class=\"event-title\" itemprop=\"summary\"><a href=\"/events/1258207\" itemprop=\"url\" title=\"Event details of AZARI, Jessy Lanza (DJ Set), Ciarra Black B2B Sheepshead, Material Witness and Dan Wender\">AZARI, Jessy Lanza (DJ Set), Ciarra Black B2B Sheepshead, Material Witness and Dan Wender</a> <span>at <a href=\"/club.aspx?id=139960\">Elsewhere</a></span></h1><div class=\"grey event-lineup\">HALL, └ Azari, └ └ Jessy Lanza, └└└ Ciarra Black B2B Sheepshead, LOFT, └ Material Witness &amp; Dan Wender</div><p class=\"attending\"><span>11</span> Attending</p></div></article></li><li class=\"\"><article class=\"event-item clearfix tickets-bkg-logo\" itemscope=\"\" itemtype=\"http://data-vocabulary.org/Event\"><a href=\"/events/1256730#tickets\"><img class=\"nohide\" src=\"https://residentadvisor.net/images/ra-tix.png\" style=\"height: 23px; width: 40px; right: 0px; position: absolute; top: 1px;\"/></a><span style=\"display:none;\"><time datetime=\"2019-05-31T00:00\" itemprop=\"startDate\">2019-05-31T00:00</time></span><a href=\"/events/1256730\"><img height=\"76\" src=\"/images/events/flyer/2019/5/us-0531-1256730-list.jpg\" width=\"152\"/></a><div class=\"bbox\"><h1 class=\"event-title\" itemprop=\"summary\"><a href=\"/events/1256730\" itemprop=\"url\" title=\"Event details of Goonroom presents: Christopher Rau, Christine Renée\">Goonroom presents: Christopher Rau, Christine Renée</a> <span>at <a href=\"/club.aspx?id=145350\">Rose Gold</a></span></h1><div class=\"grey event-lineup\">Christopher Rau, Christine Renee, Day Cart, Wig-Wam</div><p class=\"attending\"><span>9</span> Attending</p></div></article></li><li class=\"\"><article class=\"event-item clearfix tickets-bkg-logo\" itemscope=\"\" itemtype=\"http://data-vocabulary.org/Event\"><a href=\"/events/1261012#tickets\"><img class=\"nohide\" src=\"https://residentadvisor.net/images/ra-tix.png\" style=\"height: 23px; width: 40px; right: 0px; position: absolute; top: 1px;\"/></a><span style=\"display:none;\"><time datetime=\"2019-05-31T00:00\" itemprop=\"startDate\">2019-05-31T00:00</time></span><a href=\"/events/1261012\"><img height=\"76\" src=\"/images/events/flyer/2019/5/us-0531-1261012-list.jpg\" width=\"152\"/></a><div class=\"bbox\"><h1 class=\"event-title\" itemprop=\"summary\"><a href=\"/events/1261012\" itemprop=\"url\" title=\"Event details of Dusk &amp; Haze with Ayarcana, 138, Exile Plus DJ Voices &amp; Boo Lean\">Dusk &amp; Haze with Ayarcana, 138, Exile Plus DJ Voices &amp; Boo Lean</a> <span>at <a href=\"/club.aspx?id=97606\">Good Room</a></span></h1><div class=\"grey event-lineup\">Good Room presents, Dusk &amp; Haze with, Ayarcana, 138, Exile, DJ Voices &amp; Boo Lean, in the Bad Room</div><p class=\"attending\"><span>8</span> Attending</p></div></article></li><li class=\"\"><article class=\"event-item clearfix tickets-bkg-logo\" itemscope=\"\" itemtype=\"http://data-vocabulary.org/Event\"><a href=\"/events/1254212#tickets\"><img class=\"nohide\" src=\"https://residentadvisor.net/images/ra-tix.png\" style=\"height: 23px; width: 40px; right: 0px; position: absolute; top: 1px;\"/></a><span style=\"display:none;\"><time datetime=\"2019-05-31T00:00\" itemprop=\"startDate\">2019-05-31T00:00</time></span><a href=\"/events/1254212\"><img height=\"76\" src=\"/images/events/flyer/2019/5/us-0531-1254212-list.jpg\" width=\"152\"/></a><div class=\"bbox\"><h1 class=\"event-title\" itemprop=\"summary\"><a href=\"/events/1254212\" itemprop=\"url\" title=\"Event details of Friday: Justin Carter, Gene Tellem, and Tasker\">Friday: Justin Carter, Gene Tellem, and Tasker</a> <span>at <a href=\"/club.aspx?id=105873\">Nowadays</a></span></h1><div class=\"grey event-lineup\">Justin Carter, Gene Tellem, Tasker</div><p class=\"attending\"><span>4</span> Attending</p></div></article></li><li class=\"\"><article class=\"event-item clearfix tickets-bkg-logo small-item\" itemscope=\"\" itemtype=\"http://data-vocabulary.org/Event\"><a href=\"/events/1246791#tickets\"><img class=\"nohide\" src=\"https://residentadvisor.net/images/ra-tix.png\" style=\"height: 23px; width: 40px; right: 0px; position: absolute; top: 1px;\"/></a><span style=\"display:none;\"><time datetime=\"2019-05-31T00:00\" itemprop=\"startDate\">2019-05-31T00:00</time></span><div class=\"bbox\"><h1 class=\"event-title\" itemprop=\"summary\"><a href=\"/events/1246791\" itemprop=\"url\" title=\"Event details of Jubilee presents Magic City with Zuzuka Pederosa (Elsewhere Rooftop)\">Jubilee presents Magic City with Zuzuka Pederosa (Elsewhere Rooftop)</a> <span>at <a href=\"/club.aspx?id=139960\">Elsewhere</a></span></h1></div></article></li><li class=\"\"><article class=\"event-item clearfix tickets-bkg-logo small-item\" itemscope=\"\" itemtype=\"http://data-vocabulary.org/Event\"><a href=\"/events/1257277#tickets\"><img class=\"nohide\" src=\"https://residentadvisor.net/images/ra-tix.png\" style=\"height: 23px; width: 40px; right: 0px; position: absolute; top: 1px;\"/></a><span style=\"display:none;\"><time datetime=\"2019-05-31T00:00\" itemprop=\"startDate\">2019-05-31T00:00</time></span><div class=\"bbox\"><h1 class=\"event-title\" itemprop=\"summary\"><a href=\"/events/1257277\" itemprop=\"url\" title=\"Event details of Artboat NYC Yacht Party Cruise at Skyport Marina 2019\">Artboat NYC Yacht Party Cruise at Skyport Marina 2019</a> <span>at <a href=\"/club.aspx?id=104916\">Skyport Marina</a></span></h1></div></article></li><li class=\"\"><article class=\"event-item clearfix tickets-bkg-logo small-item\" itemscope=\"\" itemtype=\"http://data-vocabulary.org/Event\"><a href=\"/events/1257817#tickets\"><img class=\"nohide\" src=\"https://residentadvisor.net/images/ra-tix.png\" style=\"height: 23px; width: 40px; right: 0px; position: absolute; top: 1px;\"/></a><span style=\"display:none;\"><time datetime=\"2019-05-31T00:00\" itemprop=\"startDate\">2019-05-31T00:00</time></span><div class=\"bbox\"><h1 class=\"event-title\" itemprop=\"summary\"><a href=\"/events/1257817\" itemprop=\"url\" title=\"Event details of NYC Hip Hop vs. Reggae Yacht Party Cabana Yacht\">NYC Hip Hop vs. Reggae Yacht Party Cabana Yacht</a> <span>at <a href=\"/club.aspx?id=104916\">Skyport Marina</a></span></h1></div></article></li><li class=\"\"><article class=\"event-item clearfix tickets-bkg-logo small-item\" itemscope=\"\" itemtype=\"http://data-vocabulary.org/Event\"><a href=\"/events/1266579#tickets\"><img class=\"nohide\" src=\"https://residentadvisor.net/images/ra-tix.png\" style=\"height: 23px; width: 40px; right: 0px; position: absolute; top: 1px;\"/></a><span style=\"display:none;\"><time datetime=\"2019-05-31T00:00\" itemprop=\"startDate\">2019-05-31T00:00</time></span><div class=\"bbox\"><h1 class=\"event-title\" itemprop=\"summary\"><a href=\"/events/1266579\" itemprop=\"url\" title=\"Event details of Argenis Brito at TBA\">Argenis Brito at TBA</a> <span>at <a href=\"/club.aspx?id=75374\">TBA Brooklyn</a></span></h1></div></article></li><li class=\"\"><article class=\"event-item clearfix tickets-bkg-logo small-item\" itemscope=\"\" itemtype=\"http://data-vocabulary.org/Event\"><a href=\"/events/1244282#tickets\"><img class=\"nohide\" src=\"https://residentadvisor.net/images/ra-tix.png\" style=\"height: 23px; width: 40px; right: 0px; position: absolute; top: 1px;\"/></a><span style=\"display:none;\"><time datetime=\"2019-05-31T00:00\" itemprop=\"startDate\">2019-05-31T00:00</time></span><div class=\"bbox\"><h1 class=\"event-title\" itemprop=\"summary\"><a href=\"/events/1244282\" itemprop=\"url\" title=\"Event details of Bassjackers Boat Party\">Bassjackers Boat Party</a> <span>at <a href=\"/club.aspx?id=84472\">Hornblower Cruise</a></span></h1></div></article></li><li class=\"\"><article class=\"event-item clearfix small-item\" itemscope=\"\" itemtype=\"http://data-vocabulary.org/Event\"><span style=\"display:none;\"><time datetime=\"2019-05-31T00:00\" itemprop=\"startDate\">2019-05-31T00:00</time></span><div class=\"bbox\"><h1 class=\"event-title\" itemprop=\"summary\"><a href=\"/events/1263057\" itemprop=\"url\" title=\"Event details of Guy Gerber Live in New York\">Guy Gerber Live in New York</a> <span>at <a href=\"/club.aspx?id=4380\">Webster Hall</a></span></h1></div></article></li><li class=\"\"><article class=\"event-item clearfix small-item\" itemscope=\"\" itemtype=\"http://data-vocabulary.org/Event\"><span style=\"display:none;\"><time datetime=\"2019-05-31T00:00\" itemprop=\"startDate\">2019-05-31T00:00</time></span><div class=\"bbox\"><h1 class=\"event-title\" itemprop=\"summary\"><a href=\"/events/1259226\" itemprop=\"url\" title=\"Event details of Brawther\">Brawther</a> <span>at <a href=\"/club.aspx?id=164270\">public records</a></span></h1></div></article></li><li class=\"\"><article class=\"event-item clearfix small-item\" itemscope=\"\" itemtype=\"http://data-vocabulary.org/Event\"><span style=\"display:none;\"><time datetime=\"2019-05-31T00:00\" itemprop=\"startDate\">2019-05-31T00:00</time></span><div class=\"bbox\"><h1 class=\"event-title\" itemprop=\"summary\"><a href=\"/events/1260008\" itemprop=\"url\" title=\"Event details of Gouranga presents - Dombrance &amp; Xander Ferreira and The True Tones\">Gouranga presents - Dombrance &amp; Xander Ferreira and The True Tones</a> <span>at <a href=\"/club.aspx?id=4382\">Bowery Ballroom</a></span></h1></div></article></li><li class=\"\"><article class=\"event-item clearfix small-item\" itemscope=\"\" itemtype=\"http://data-vocabulary.org/Event\"><span style=\"display:none;\"><time datetime=\"2019-05-31T00:00\" itemprop=\"startDate\">2019-05-31T00:00</time></span><div class=\"bbox\"><h1 class=\"event-title\" itemprop=\"summary\"><a href=\"/events/1263415\" itemprop=\"url\" title=\"Event details of Play House\">Play House</a> <span>at <a href=\"/club.aspx?id=128228\">Up&amp;Down</a></span></h1></div></article></li><li class=\"\"><article class=\"event-item clearfix small-item\" itemscope=\"\" itemtype=\"http://data-vocabulary.org/Event\"><span style=\"display:none;\"><time datetime=\"2019-05-31T00:00\" itemprop=\"startDate\">2019-05-31T00:00</time></span><div class=\"bbox\"><h1 class=\"event-title\" itemprop=\"summary\"><a href=\"/events/1266724\" itemprop=\"url\" title=\"Event details of Diving for Disco Rooftop with Jake From Extra Water &amp; Greg D\">Diving for Disco Rooftop with Jake From Extra Water &amp; Greg D</a> <span>at <a href=\"/club.aspx?id=117770\">Our Wicked Lady</a></span></h1></div></article></li><li><div class=\"but myra mt16\" style=\"width: 152px;\"><a href=\"/submit-event.aspx?ai=8\">Submit event</a></div></li><li><p class=\"eventDate date\"><a href=\"/events.aspx?ai=8&amp;v=day&amp;mn=6&amp;yr=2019&amp;dy=1\"><span>Sat, 01 Jun 2019 /</span></a></p></li><li class=\"\"><article class=\"event-item clearfix tickets-bkg-logo\" itemscope=\"\" itemtype=\"http://data-vocabulary.org/Event\"><a href=\"/events/1216915#tickets\"><img class=\"nohide\" src=\"https://residentadvisor.net/images/ra-tix.png\" style=\"height: 23px; width: 40px; right: 0px; position: absolute; top: 1px;\"/></a><span style=\"display:none;\"><time datetime=\"2019-06-01T00:00\" itemprop=\"startDate\">2019-06-01T00:00</time></span><a href=\"/events/1216915\"><img height=\"76\" src=\"/images/events/flyer/2019/6/us-0601-1216915-list.jpg\" width=\"152\"/></a><div class=\"bbox\"><h1 class=\"event-title\" itemprop=\"summary\"><a href=\"/events/1216915\" itemprop=\"url\" title=\"Event details of Lane 8: TNH Summer Gathering, Brooklyn - Sold Out\">Lane 8: TNH Summer Gathering, Brooklyn - Sold Out</a> <span>at <a href=\"/club.aspx?id=105938\">Brooklyn Mirage</a></span></h1><div class=\"grey event-lineup\">Lane 8, Ben Böhmer, Enamour</div><p class=\"attending\"><span>148</span> Attending</p></div></article></li><li class=\"\"><article class=\"event-item clearfix tickets-bkg-logo\" itemscope=\"\" itemtype=\"http://data-vocabulary.org/Event\"><a href=\"/events/1239440#tickets\"><img class=\"nohide\" src=\"https://residentadvisor.net/images/ra-tix.png\" style=\"height: 23px; width: 40px; right: 0px; position: absolute; top: 1px;\"/></a><span style=\"display:none;\"><time datetime=\"2019-06-01T00:00\" itemprop=\"startDate\">2019-06-01T00:00</time></span><a href=\"/events/1239440\"><img height=\"76\" src=\"/images/events/flyer/2019/6/us-0601-1239440-list.jpg\" width=\"152\"/></a><div class=\"bbox\"><h1 class=\"event-title\" itemprop=\"summary\"><a href=\"/events/1239440\" itemprop=\"url\" title=\"Event details of Souq NYC: Viken Arman, AKUMANDRA, Oceanvs Orientalis, Chaim &amp; More\">Souq NYC: Viken Arman, AKUMANDRA, Oceanvs Orientalis, Chaim &amp; More</a> <span>at <a href=\"/club.aspx?id=69401\">Knockdown Center</a></span></h1><div class=\"grey event-lineup\">Viken Arman, Oceanvs Orientalis, Feathered Sun, Akumandra, Chaim, Baris K, Acid Arab, Spaniol, Iorie, O/Y, Sorä</div><p class=\"attending\"><span>75</span> Attending</p></div></article></li><li class=\"\"><article class=\"event-item clearfix tickets-bkg-logo\" itemscope=\"\" itemtype=\"http://data-vocabulary.org/Event\"><a href=\"/events/1258010#tickets\"><img class=\"nohide\" src=\"https://residentadvisor.net/images/ra-tix.png\" style=\"height: 23px; width: 40px; right: 0px; position: absolute; top: 1px;\"/></a><span style=\"display:none;\"><time datetime=\"2019-06-01T00:00\" itemprop=\"startDate\">2019-06-01T00:00</time></span><a href=\"/events/1258010\"><img height=\"76\" src=\"/images/events/flyer/2019/6/us-0601-1258010-list.jpg\" width=\"152\"/></a><div class=\"bbox\"><h1 class=\"event-title\" itemprop=\"summary\"><a href=\"/events/1258010\" itemprop=\"url\" title=\"Event details of FJAAK / Newa / Aurora Halal\">FJAAK / Newa / Aurora Halal</a> <span>at <a href=\"/club.aspx?id=165976\">BASEMENT</a></span></h1><div class=\"grey event-lineup\"></div><p class=\"attending\"><span>72</span> Attending</p></div></article></li><li class=\"\"><article class=\"event-item pick clearfix tickets-bkg-logo\" itemscope=\"\" itemtype=\"http://data-vocabulary.org/Event\"><a href=\"/events/1254982#tickets\"><img class=\"nohide\" src=\"https://residentadvisor.net/images/ra-tix.png\" style=\"height: 23px; width: 40px; right: 0px; position: absolute; top: 1px;\"/></a><span style=\"display:none;\"><time datetime=\"2019-06-01T00:00\" itemprop=\"startDate\">2019-06-01T00:00</time></span><a href=\"/events/1254982\"><img height=\"76\" src=\"/images/events/flyer/2019/6/us-0601-1254982-list.jpg\" width=\"152\"/></a><div class=\"bbox\"><h1 class=\"event-title\" itemprop=\"summary\"><a href=\"/events/1254982\" itemprop=\"url\" title=\"Event details of Chez Damier, Jus-Ed and DJ Qu\">Chez Damier, Jus-Ed and DJ Qu</a> <span>at <a href=\"/club.aspx?id=139960\">Elsewhere</a></span></h1><div class=\"grey event-lineup\">HALL, └ Chez Damier, └ └ Jus-Ed, └└└ DJ Qu</div><p class=\"attending\"><span>25</span> Attending</p><div class=\"pick-intro\"><div class=\"pick-icon\">RA Pick</div>This lineup is a house music holy trinity. </div></div></article></li><li class=\"\"><article class=\"event-item clearfix tickets-bkg-logo\" itemscope=\"\" itemtype=\"http://data-vocabulary.org/Event\"><a href=\"/events/1264229#tickets\"><img class=\"nohide\" src=\"https://residentadvisor.net/images/ra-tix.png\" style=\"height: 23px; width: 40px; right: 0px; position: absolute; top: 1px;\"/></a><span style=\"display:none;\"><time datetime=\"2019-06-01T00:00\" itemprop=\"startDate\">2019-06-01T00:00</time></span><a href=\"/events/1264229\"><img height=\"76\" src=\"/images/events/flyer/2019/6/us-0601-1264229-list.jpg\" width=\"152\"/></a><div class=\"bbox\"><h1 class=\"event-title\" itemprop=\"summary\"><a href=\"/events/1264229\" itemprop=\"url\" title=\"Event details of Nails &amp; Wax: KHIDI 中 NYC Takeover\">Nails &amp; Wax: KHIDI 中 NYC Takeover</a> <span>at <span class=\"grey\" style=\"display:inline;\">TBA - Brooklyn</span></span></h1><div class=\"grey event-lineup\">Ròman, Vulkanski, Liza Rivs, Mr. Nails</div><p class=\"attending\"><span>20</span> Attending</p></div></article></li><li class=\"\"><article class=\"event-item pick clearfix tickets-bkg-logo\" itemscope=\"\" itemtype=\"http://data-vocabulary.org/Event\"><a href=\"/events/1254219#tickets\"><img class=\"nohide\" src=\"https://residentadvisor.net/images/ra-tix.png\" style=\"height: 23px; width: 40px; right: 0px; position: absolute; top: 1px;\"/></a><span style=\"display:none;\"><time datetime=\"2019-06-01T00:00\" itemprop=\"startDate\">2019-06-01T00:00</time></span><a href=\"/events/1254219\"><img height=\"76\" src=\"/images/events/flyer/2019/6/us-0601-1254219-list.jpg\" width=\"152\"/></a><div class=\"bbox\"><h1 class=\"event-title\" itemprop=\"summary\"><a href=\"/events/1254219\" itemprop=\"url\" title=\"Event details of Saturday: Dbridge and Blazer Sound System\">Saturday: Dbridge and Blazer Sound System</a> <span>at <a href=\"/club.aspx?id=105873\">Nowadays</a></span></h1><div class=\"grey event-lineup\">DBridge, Blazer Sound System</div><p class=\"attending\"><span>11</span> Attending</p><div class=\"pick-intro\"><div class=\"pick-icon\">RA Pick</div>Here's a rare chance to get your drum &amp; bass fix on this killer soundsystem. </div></div></article></li><li class=\"\"><article class=\"event-item clearfix tickets-bkg-logo\" itemscope=\"\" itemtype=\"http://data-vocabulary.org/Event\"><a href=\"/events/1261925#tickets\"><img class=\"nohide\" src=\"https://residentadvisor.net/images/ra-tix.png\" style=\"height: 23px; width: 40px; right: 0px; position: absolute; top: 1px;\"/></a><span style=\"display:none;\"><time datetime=\"2019-06-01T00:00\" itemprop=\"startDate\">2019-06-01T00:00</time></span><a href=\"/events/1261925\"><img height=\"76\" src=\"/images/events/flyer/2019/6/us-0601-1261925-list.jpg\" width=\"152\"/></a><div class=\"bbox\"><h1 class=\"event-title\" itemprop=\"summary\"><a href=\"/events/1261925\" itemprop=\"url\" title=\"Event details of Fantasies - Sail Into The Sunset\">Fantasies - Sail Into The Sunset</a> <span>at <a href=\"/club.aspx?id=6673\">Circle Line Cruises</a></span></h1><div class=\"grey event-lineup\">Jordi Iven, Cheric, Pierre De Beirut, Carol Ferraz</div><p class=\"attending\"><span>5</span> Attending</p></div></article></li><li class=\"\"><article class=\"event-item clearfix tickets-bkg-logo\" itemscope=\"\" itemtype=\"http://data-vocabulary.org/Event\"><a href=\"/events/1256079#tickets\"><img class=\"nohide\" src=\"https://residentadvisor.net/images/ra-tix.png\" style=\"height: 23px; width: 40px; right: 0px; position: absolute; top: 1px;\"/></a><span style=\"display:none;\"><time datetime=\"2019-06-01T00:00\" itemprop=\"startDate\">2019-06-01T00:00</time></span><a href=\"/events/1256079\"><img height=\"76\" src=\"/images/events/flyer/2019/6/us-0601-1256079-list.jpg\" width=\"152\"/></a><div class=\"bbox\"><h1 class=\"event-title\" itemprop=\"summary\"><a href=\"/events/1256079\" itemprop=\"url\" title=\"Event details of Juan Maclean (DJ set), JDH, Justin Strauss &amp; Billy Caldwell\">Juan Maclean (DJ set), JDH, Justin Strauss &amp; Billy Caldwell</a> <span>at <a href=\"/club.aspx?id=97606\">Good Room</a></span></h1><div class=\"grey event-lineup\">Good Room presents, The Juan MacLean, JDH, Love Tempo in the Bad Room, with Justin Strauss &amp; Billy Caldwell</div><p class=\"attending\"><span>4</span> Attending</p></div></article></li><li class=\"\"><article class=\"event-item clearfix tickets-bkg-logo small-item\" itemscope=\"\" itemtype=\"http://data-vocabulary.org/Event\"><a href=\"/events/1256748#tickets\"><img class=\"nohide\" src=\"https://residentadvisor.net/images/ra-tix.png\" style=\"height: 23px; width: 40px; right: 0px; position: absolute; top: 1px;\"/></a><span style=\"display:none;\"><time datetime=\"2019-06-01T00:00\" itemprop=\"startDate\">2019-06-01T00:00</time></span><div class=\"bbox\"><h1 class=\"event-title\" itemprop=\"summary\"><a href=\"/events/1256748\" itemprop=\"url\" title=\"Event details of Frequencies with Sleepy &amp; Boo\">Frequencies with Sleepy &amp; Boo</a> <span>at <a href=\"/club.aspx?id=75374\">TBA Brooklyn</a></span></h1></div></article></li><li class=\"\"><article class=\"event-item clearfix tickets-bkg-logo small-item\" itemscope=\"\" itemtype=\"http://data-vocabulary.org/Event\"><a href=\"/events/1266778#tickets\"><img class=\"nohide\" src=\"https://residentadvisor.net/images/ra-tix.png\" style=\"height: 23px; width: 40px; right: 0px; position: absolute; top: 1px;\"/></a><span style=\"display:none;\"><time datetime=\"2019-06-01T00:00\" itemprop=\"startDate\">2019-06-01T00:00</time></span><div class=\"bbox\"><h1 class=\"event-title\" itemprop=\"summary\"><a href=\"/events/1266778\" itemprop=\"url\" title=\"Event details of Bespoke Musik Pres. Doppelgänger (Joe Miller vs. Joe Miller)\">Bespoke Musik Pres. Doppelgänger (Joe Miller vs. Joe Miller)</a> <span>at <span class=\"grey\" style=\"display:inline;\">TBA - Brooklyn</span></span></h1></div></article></li><li class=\"\"><article class=\"event-item clearfix tickets-bkg-logo small-item\" itemscope=\"\" itemtype=\"http://data-vocabulary.org/Event\"><a href=\"/events/1247576#tickets\"><img class=\"nohide\" src=\"https://residentadvisor.net/images/ra-tix.png\" style=\"height: 23px; width: 40px; right: 0px; position: absolute; top: 1px;\"/></a><span style=\"display:none;\"><time datetime=\"2019-06-01T00:00\" itemprop=\"startDate\">2019-06-01T00:00</time></span><div class=\"bbox\"><h1 class=\"event-title\" itemprop=\"summary\"><a href=\"/events/1247576\" itemprop=\"url\" title=\"Event details of Incorrect After Hours Boat Party with Anthony Attalla and Harry Romero\">Incorrect After Hours Boat Party with Anthony Attalla and Harry Romero</a> <span>at <a href=\"/club.aspx?id=132098\">Pier 15</a></span></h1></div></article></li><li class=\"\"><article class=\"event-item clearfix tickets-bkg-logo small-item\" itemscope=\"\" itemtype=\"http://data-vocabulary.org/Event\"><a href=\"/events/1257344#tickets\"><img class=\"nohide\" src=\"https://residentadvisor.net/images/ra-tix.png\" style=\"height: 23px; width: 40px; right: 0px; position: absolute; top: 1px;\"/></a><span style=\"display:none;\"><time datetime=\"2019-06-01T00:00\" itemprop=\"startDate\">2019-06-01T00:00</time></span><div class=\"bbox\"><h1 class=\"event-title\" itemprop=\"summary\"><a href=\"/events/1257344\" itemprop=\"url\" title=\"Event details of Juicy Fruits with Tedd Patterson\">Juicy Fruits with Tedd Patterson</a> <span>at <a href=\"/club.aspx?id=21488\">House Of Yes</a></span></h1></div></article></li><li class=\"\"><article class=\"event-item clearfix small-item\" itemscope=\"\" itemtype=\"http://data-vocabulary.org/Event\"><span style=\"display:none;\"><time datetime=\"2019-06-01T00:00\" itemprop=\"startDate\">2019-06-01T00:00</time></span><div class=\"bbox\"><h1 class=\"event-title\" itemprop=\"summary\"><a href=\"/events/1254351\" itemprop=\"url\" title=\"Event details of Derrick Carter\">Derrick Carter</a> <span>at <a href=\"/club.aspx?id=36873\">Le Bain</a></span></h1></div></article></li><li class=\"\"><article class=\"event-item clearfix small-item\" itemscope=\"\" itemtype=\"http://data-vocabulary.org/Event\"><span style=\"display:none;\"><time datetime=\"2019-06-01T00:00\" itemprop=\"startDate\">2019-06-01T00:00</time></span><div class=\"bbox\"><h1 class=\"event-title\" itemprop=\"summary\"><a href=\"/events/1245637\" itemprop=\"url\" title=\"Event details of Crack 100: NYC Issue Launch with Beautiful Swimmers\">Crack 100: NYC Issue Launch with Beautiful Swimmers</a> <span>at <a href=\"/club.aspx?id=139960\">Elsewhere</a></span></h1></div></article></li><li class=\"\"><article class=\"event-item clearfix small-item\" itemscope=\"\" itemtype=\"http://data-vocabulary.org/Event\"><span style=\"display:none;\"><time datetime=\"2019-06-01T00:00\" itemprop=\"startDate\">2019-06-01T00:00</time></span><div class=\"bbox\"><h1 class=\"event-title\" itemprop=\"summary\"><a href=\"/events/1262408\" itemprop=\"url\" title=\"Event details of Ron Trent &amp; Friends\">Ron Trent &amp; Friends</a> <span>at <a href=\"/club.aspx?id=164270\">public records</a></span></h1></div></article></li><li class=\"\"><article class=\"event-item pick clearfix small-item\" itemscope=\"\" itemtype=\"http://data-vocabulary.org/Event\"><span style=\"display:none;\"><time datetime=\"2019-06-01T00:00\" itemprop=\"startDate\">2019-06-01T00:00</time></span><div class=\"bbox\"><h1 class=\"event-title\" itemprop=\"summary\"><a href=\"/events/1255174\" itemprop=\"url\" title=\"Event details of The Level Beach Party ~ June\">The Level Beach Party ~ June</a> <span>at <a href=\"/club.aspx?id=151337\">Riis Park Beach Bazaar</a></span></h1><div class=\"pick-intro\"><div class=\"pick-icon\">RA Pick</div>A free party on the boardwalk at Riis Beach in the Rockaways. As if that weren't enough, Galcher Lustwerk is also playing. </div></div></article></li><li class=\"\"><article class=\"event-item clearfix small-item\" itemscope=\"\" itemtype=\"http://data-vocabulary.org/Event\"><span style=\"display:none;\"><time datetime=\"2019-06-01T00:00\" itemprop=\"startDate\">2019-06-01T00:00</time></span><div class=\"bbox\"><h1 class=\"event-title\" itemprop=\"summary\"><a href=\"/events/1254456\" itemprop=\"url\" title=\"Event details of Amit by Driven AM\">Amit by Driven AM</a> <span>at <a href=\"/club.aspx?id=114926\">Sunnyvale</a></span></h1></div></article></li><li class=\"\"><article class=\"event-item clearfix small-item\" itemscope=\"\" itemtype=\"http://data-vocabulary.org/Event\"><span style=\"display:none;\"><time datetime=\"2019-06-01T00:00\" itemprop=\"startDate\">2019-06-01T00:00</time></span><div class=\"bbox\"><h1 class=\"event-title\" itemprop=\"summary\"><a href=\"/events/1257881\" itemprop=\"url\" title=\"Event details of Moonlight In Paradise with Nosaj Thing, DJ Spinna, The Whooligan &amp; More\">Moonlight In Paradise with Nosaj Thing, DJ Spinna, The Whooligan &amp; More</a> <span>at <a href=\"/club.aspx?id=97635\">Hornblower Infinity</a></span></h1></div></article></li><li class=\"\"><article class=\"event-item clearfix small-item\" itemscope=\"\" itemtype=\"http://data-vocabulary.org/Event\"><span style=\"display:none;\"><time datetime=\"2019-06-01T00:00\" itemprop=\"startDate\">2019-06-01T00:00</time></span><div class=\"bbox\"><h1 class=\"event-title\" itemprop=\"summary\"><a href=\"/events/1265298\" itemprop=\"url\" title=\"Event details of Buddy Buddy Buffalo Pride with Aaron Clark, Jason Kendig and Leeon\">Buddy Buddy Buffalo Pride with Aaron Clark, Jason Kendig and Leeon</a> <span>at <a href=\"/club.aspx?id=163540\">The Underground Niteclub</a>, <a href=\"/events.aspx?ai=443\">Buffalo/Rochester</a></span></h1></div></article></li><li class=\"\"><article class=\"event-item clearfix small-item\" itemscope=\"\" itemtype=\"http://data-vocabulary.org/Event\"><span style=\"display:none;\"><time datetime=\"2019-06-01T00:00\" itemprop=\"startDate\">2019-06-01T00:00</time></span><div class=\"bbox\"><h1 class=\"event-title\" itemprop=\"summary\"><a href=\"/events/1234797\" itemprop=\"url\" title=\"Event details of Hardside with Headhunterz\">Hardside with Headhunterz</a> <span>at <a href=\"/club.aspx?id=19281\">Market Hotel</a></span></h1></div></article></li><li class=\"\"><article class=\"event-item clearfix small-item\" itemscope=\"\" itemtype=\"http://data-vocabulary.org/Event\"><span style=\"display:none;\"><time datetime=\"2019-06-01T00:00\" itemprop=\"startDate\">2019-06-01T00:00</time></span><div class=\"bbox\"><h1 class=\"event-title\" itemprop=\"summary\"><a href=\"/events/1249612\" itemprop=\"url\" title=\"Event details of 2019 Pulse Wave Party\">2019 Pulse Wave Party</a> <span>at <a href=\"/club.aspx?id=87402\">Melrose Ballroom</a></span></h1></div></article></li><li class=\"\"><article class=\"event-item clearfix small-item\" itemscope=\"\" itemtype=\"http://data-vocabulary.org/Event\"><span style=\"display:none;\"><time datetime=\"2019-06-01T00:00\" itemprop=\"startDate\">2019-06-01T00:00</time></span><div class=\"bbox\"><h1 class=\"event-title\" itemprop=\"summary\"><a href=\"/events/1255163\" itemprop=\"url\" title=\"Event details of Banger 3 with Timmy Regisford, Stan Zeff, Ruben Toro +More\">Banger 3 with Timmy Regisford, Stan Zeff, Ruben Toro +More</a> <span>at <a href=\"/club.aspx?id=51557\">Copacabana</a></span></h1></div></article></li><li class=\"\"><article class=\"event-item clearfix small-item\" itemscope=\"\" itemtype=\"http://data-vocabulary.org/Event\"><span style=\"display:none;\"><time datetime=\"2019-06-01T00:00\" itemprop=\"startDate\">2019-06-01T00:00</time></span><div class=\"bbox\"><h1 class=\"event-title\" itemprop=\"summary\"><a href=\"/events/1259926\" itemprop=\"url\" title=\"Event details of Tarek Atoui: Organ Within ft.C. Spencer Yeh\">Tarek Atoui: Organ Within ft.C. Spencer Yeh</a> <span>at <a href=\"/club.aspx?id=167752\">Kurimanzutto</a></span></h1></div></article></li><li class=\"\"><article class=\"event-item clearfix small-item\" itemscope=\"\" itemtype=\"http://data-vocabulary.org/Event\"><span style=\"display:none;\"><time datetime=\"2019-06-01T00:00\" itemprop=\"startDate\">2019-06-01T00:00</time></span><div class=\"bbox\"><h1 class=\"event-title\" itemprop=\"summary\"><a href=\"/events/1266218\" itemprop=\"url\" title=\"Event details of Union: Sessions / Techno &amp; House All Night\">Union: Sessions / Techno &amp; House All Night</a> <span>at <a href=\"/club.aspx?id=156758\">Eris</a></span></h1></div></article></li><li class=\"\"><article class=\"event-item clearfix tickets-bkg-logo small-item\" itemscope=\"\" itemtype=\"http://data-vocabulary.org/Event\"><a href=\"/events/1243073#tickets\"><img class=\"nohide\" src=\"https://residentadvisor.net/images/ra-tix.png\" style=\"height: 23px; width: 40px; right: 0px; position: absolute; top: 1px;\"/></a><span style=\"display:none;\"><time datetime=\"2019-06-01T00:00\" itemprop=\"startDate\">2019-06-01T00:00</time></span><div class=\"bbox\"><h1 class=\"event-title\" itemprop=\"summary\"><a href=\"/events/1243073\" itemprop=\"url\" title=\"Event details of Pump Up The Volume Midnight Yacht Cruise\">Pump Up The Volume Midnight Yacht Cruise</a> <span>at <a href=\"/club.aspx?id=31804\">Harbor Lights Yacht</a></span></h1></div></article></li><li class=\"\"><article class=\"event-item clearfix small-item\" itemscope=\"\" itemtype=\"http://data-vocabulary.org/Event\"><span style=\"display:none;\"><time datetime=\"2019-06-01T00:00\" itemprop=\"startDate\">2019-06-01T00:00</time></span><div class=\"bbox\"><h1 class=\"event-title\" itemprop=\"summary\"><a href=\"/events/1260932\" itemprop=\"url\" title=\"Event details of Fomo presents TAP.10, Darling Chuck and Special Guests\">Fomo presents TAP.10, Darling Chuck and Special Guests</a> <span>at <a href=\"/club.aspx?id=139960\">Elsewhere</a></span></h1></div></article></li><li class=\"\"><article class=\"event-item clearfix small-item\" itemscope=\"\" itemtype=\"http://data-vocabulary.org/Event\"><span style=\"display:none;\"><time datetime=\"2019-06-01T00:00\" itemprop=\"startDate\">2019-06-01T00:00</time></span><div class=\"bbox\"><h1 class=\"event-title\" itemprop=\"summary\"><a href=\"/events/1266442\" itemprop=\"url\" title=\"Event details of Cabaret Fiesta\">Cabaret Fiesta</a> <span>at <span class=\"grey\" style=\"display:inline;\">Tease Lounge</span></span></h1></div></article></li><li class=\"\"><article class=\"event-item clearfix small-item\" itemscope=\"\" itemtype=\"http://data-vocabulary.org/Event\"><span style=\"display:none;\"><time datetime=\"2019-06-01T00:00\" itemprop=\"startDate\">2019-06-01T00:00</time></span><div class=\"bbox\"><h1 class=\"event-title\" itemprop=\"summary\"><a href=\"/events/1242658\" itemprop=\"url\" title=\"Event details of Outdoorfest NYC Campout\">Outdoorfest NYC Campout</a> <span>at <a href=\"/club.aspx?id=119468\">Henry Kaufmann Campgrounds</a></span></h1></div></article></li><li><div class=\"but myra mt16\" style=\"width: 152px;\"><a href=\"/submit-event.aspx?ai=8\">Submit event</a></div></li><li><p class=\"eventDate date\"><a href=\"/events.aspx?ai=8&amp;v=day&amp;mn=6&amp;yr=2019&amp;dy=2\"><span>Sun, 02 Jun 2019 /</span></a></p></li><li class=\"\"><article class=\"event-item clearfix tickets-bkg-logo\" itemscope=\"\" itemtype=\"http://data-vocabulary.org/Event\"><a href=\"/events/1239440#tickets\"><img class=\"nohide\" src=\"https://residentadvisor.net/images/ra-tix.png\" style=\"height: 23px; width: 40px; right: 0px; position: absolute; top: 1px;\"/></a><span style=\"display:none;\"><time datetime=\"2019-06-02T00:00\" itemprop=\"startDate\">2019-06-02T00:00</time></span><a href=\"/events/1239440\"><img height=\"76\" src=\"/images/events/flyer/2019/6/us-0601-1239440-list.jpg\" width=\"152\"/></a><div class=\"bbox\"><h1 class=\"event-title\" itemprop=\"summary\"><a href=\"/events/1239440\" itemprop=\"url\" title=\"Event details of Souq NYC: Viken Arman, AKUMANDRA, Oceanvs Orientalis, Chaim &amp; More\">Souq NYC: Viken Arman, AKUMANDRA, Oceanvs Orientalis, Chaim &amp; More</a> <span>at <a href=\"/club.aspx?id=69401\">Knockdown Center</a></span></h1><div class=\"grey event-lineup\">Viken Arman, Oceanvs Orientalis, Feathered Sun, Akumandra, Chaim, Baris K, Acid Arab, Spaniol, Iorie, O/Y, Sorä</div><p class=\"attending\"><span>75</span> Attending</p></div></article></li><li class=\"\"><article class=\"event-item clearfix tickets-bkg-logo\" itemscope=\"\" itemtype=\"http://data-vocabulary.org/Event\"><a href=\"/events/1254210#tickets\"><img class=\"nohide\" src=\"https://residentadvisor.net/images/ra-tix.png\" style=\"height: 23px; width: 40px; right: 0px; position: absolute; top: 1px;\"/></a><span style=\"display:none;\"><time datetime=\"2019-06-02T00:00\" itemprop=\"startDate\">2019-06-02T00:00</time></span><a href=\"/events/1254210\"><img height=\"76\" src=\"/images/events/flyer/2019/6/us-0602-1254210-list.jpg\" width=\"152\"/></a><div class=\"bbox\"><h1 class=\"event-title\" itemprop=\"summary\"><a href=\"/events/1254210\" itemprop=\"url\" title=\"Event details of Mister Sunday: Beta Librae and Eamon Harkin\">Mister Sunday: Beta Librae and Eamon Harkin</a> <span>at <a href=\"/club.aspx?id=105873\">Nowadays</a></span></h1><div class=\"grey event-lineup\">Eamon Harkin, Beta Librae</div><p class=\"attending\"><span>9</span> Attending</p></div></article></li><li class=\"\"><article class=\"event-item clearfix\" itemscope=\"\" itemtype=\"http://data-vocabulary.org/Event\"><span style=\"display:none;\"><time datetime=\"2019-06-02T00:00\" itemprop=\"startDate\">2019-06-02T00:00</time></span><a href=\"/events/1245637\"><img height=\"76\" src=\"/images/events/flyer/2019/6/us-0601-1245637-list.jpg\" width=\"152\"/></a><div class=\"bbox\"><h1 class=\"event-title\" itemprop=\"summary\"><a href=\"/events/1245637\" itemprop=\"url\" title=\"Event details of Crack 100: NYC Issue Launch with Beautiful Swimmers\">Crack 100: NYC Issue Launch with Beautiful Swimmers</a> <span>at <a href=\"/club.aspx?id=139960\">Elsewhere</a></span></h1><div class=\"grey event-lineup\">Beautiful Swimmers</div><p class=\"attending\"><span>16</span> Attending</p></div></article></li><li class=\"\"><article class=\"event-item clearfix\" itemscope=\"\" itemtype=\"http://data-vocabulary.org/Event\"><span style=\"display:none;\"><time datetime=\"2019-06-02T00:00\" itemprop=\"startDate\">2019-06-02T00:00</time></span><a href=\"/events/1251441\"><img height=\"76\" src=\"/images/events/flyer/2019/6/us-0602-1251441-list.jpg\" width=\"152\"/></a><div class=\"bbox\"><h1 class=\"event-title\" itemprop=\"summary\"><a href=\"/events/1251441\" itemprop=\"url\" title=\"Event details of Walk To Cure Arthritis - New York City\">Walk To Cure Arthritis - New York City</a> <span>at <a href=\"/club.aspx?id=167271\">The Intrepid Sea, Air &amp; Space Museum</a></span></h1><div class=\"grey event-lineup\">Geo Vanasco</div><p class=\"attending\"><span>1</span> Attending</p></div></article></li><li class=\"\"><article class=\"event-item clearfix small-item\" itemscope=\"\" itemtype=\"http://data-vocabulary.org/Event\"><span style=\"display:none;\"><time datetime=\"2019-06-02T00:00\" itemprop=\"startDate\">2019-06-02T00:00</time></span><div class=\"bbox\"><h1 class=\"event-title\" itemprop=\"summary\"><a href=\"/events/1266063\" itemprop=\"url\" title=\"Event details of Sunday Soiree: Nozen, Omii\">Sunday Soiree: Nozen, Omii</a> <span>at <a href=\"/club.aspx?id=75374\">TBA Brooklyn</a></span></h1></div></article></li><li class=\"\"><article class=\"event-item clearfix small-item\" itemscope=\"\" itemtype=\"http://data-vocabulary.org/Event\"><span style=\"display:none;\"><time datetime=\"2019-06-02T00:00\" itemprop=\"startDate\">2019-06-02T00:00</time></span><div class=\"bbox\"><h1 class=\"event-title\" itemprop=\"summary\"><a href=\"/events/1267204\" itemprop=\"url\" title=\"Event details of Assemble\">Assemble</a> <span>at <a href=\"/club.aspx?id=137550\">H0L0</a></span></h1></div></article></li><li><div class=\"but myra mt16\" style=\"width: 152px;\"><a href=\"/submit-event.aspx?ai=8\">Submit event</a></div></li><li><p class=\"eventDate date\"><a href=\"/events.aspx?ai=8&amp;v=day&amp;mn=6&amp;yr=2019&amp;dy=4\"><span>Tue, 04 Jun 2019 /</span></a></p></li><li class=\"\"><article class=\"event-item clearfix\" itemscope=\"\" itemtype=\"http://data-vocabulary.org/Event\"><span style=\"display:none;\"><time datetime=\"2019-06-04T00:00\" itemprop=\"startDate\">2019-06-04T00:00</time></span><a href=\"/events/1267049\"><img height=\"76\" src=\"/images/events/flyer/2019/6/us-0604-1267049-list.jpg\" width=\"152\"/></a><div class=\"bbox\"><h1 class=\"event-title\" itemprop=\"summary\"><a href=\"/events/1267049\" itemprop=\"url\" title=\"Event details of Anti-Social Tuesday with Yme?? and Friends\">Anti-Social Tuesday with Yme?? and Friends</a> <span>at <a href=\"/club.aspx?id=75374\">TBA Brooklyn</a></span></h1><div class=\"grey event-lineup\">YME? and Friends</div><p class=\"attending\"><span>1</span> Attending</p></div></article></li><li class=\"\"><article class=\"event-item clearfix\" itemscope=\"\" itemtype=\"http://data-vocabulary.org/Event\"><span style=\"display:none;\"><time datetime=\"2019-06-04T00:00\" itemprop=\"startDate\">2019-06-04T00:00</time></span><a href=\"/events/1265716\"><img height=\"76\" src=\"/images/events/flyer/2019/6/us-0604-1265716-list.jpg\" width=\"152\"/></a><div class=\"bbox\"><h1 class=\"event-title\" itemprop=\"summary\"><a href=\"/events/1265716\" itemprop=\"url\" title=\"Event details of Feel Real with DJ Disciple, Ejoe Wilson + Friends\">Feel Real with DJ Disciple, Ejoe Wilson + Friends</a> <span>at <a href=\"/club.aspx?id=117093\">Rumpus Room</a></span></h1><div class=\"grey event-lineup\">DJ Disciple, Ejoe Wilson, Daniel Scala, DJ Mekhanik</div></div></article></li>\n",
       "</ul>"
      ]
     },
     "execution_count": 16,
     "metadata": {},
     "output_type": "execute_result"
    }
   ],
   "source": [
    "soup.find(\"ul\",attrs={\"id\":\"items\",\"class\":\"list\"})"
   ]
  },
  {
   "cell_type": "markdown",
   "metadata": {},
   "source": [
    "## Open the Inspect Element Feature\n",
    "\n",
    "Next, open the inspect element feature from your web browser in order to preview the underlying HTML associated with the page."
   ]
  },
  {
   "cell_type": "code",
   "execution_count": null,
   "metadata": {},
   "outputs": [],
   "source": [
    "#Open the inspect element feature in your browser"
   ]
  },
  {
   "cell_type": "markdown",
   "metadata": {},
   "source": [
    "## Write a Function to Scrape all of the Events on the Given Page Events Page\n",
    "\n",
    "The function should return a Pandas DataFrame with columns for the Event_Name, Venue, Event_Date and Number_of_Attendees."
   ]
  },
  {
   "cell_type": "code",
   "execution_count": null,
   "metadata": {},
   "outputs": [],
   "source": [
    "def scrape_events(events_page_url):\n",
    "    #Your code here\n",
    "    df.columns = [\"Event_Name\", \"Venue\", \"Event_Date\", \"Number_of_Attendees\"]\n",
    "    return df"
   ]
  },
  {
   "cell_type": "markdown",
   "metadata": {},
   "source": [
    "## Write a Function to Retrieve the URL for the Next Page"
   ]
  },
  {
   "cell_type": "code",
   "execution_count": null,
   "metadata": {},
   "outputs": [],
   "source": [
    "def next_page(url):\n",
    "    #Your code here\n",
    "    return next_page_url"
   ]
  },
  {
   "cell_type": "markdown",
   "metadata": {},
   "source": [
    "## Scrape the Next 1000 Events for Your Area\n",
    "\n",
    "Display the data sorted by the number of attendees. If there is a tie for the number attending, sort by event date."
   ]
  },
  {
   "cell_type": "code",
   "execution_count": null,
   "metadata": {},
   "outputs": [],
   "source": [
    "#Your code here"
   ]
  },
  {
   "cell_type": "markdown",
   "metadata": {},
   "source": [
    "## Summary \n",
    "\n",
    "Congratulations! In this lab, you successfully scraped a website for concert event information!"
   ]
  }
 ],
 "metadata": {
  "kernelspec": {
   "display_name": "Python 3",
   "language": "python",
   "name": "python3"
  },
  "language_info": {
   "codemirror_mode": {
    "name": "ipython",
    "version": 3
   },
   "file_extension": ".py",
   "mimetype": "text/x-python",
   "name": "python",
   "nbconvert_exporter": "python",
   "pygments_lexer": "ipython3",
   "version": "3.6.6"
  }
 },
 "nbformat": 4,
 "nbformat_minor": 2
}
